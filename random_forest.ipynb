{
 "cells": [
  {
   "cell_type": "markdown",
   "source": [
    "## Random Forest"
   ],
   "metadata": {
    "collapsed": false
   },
   "id": "929709590188a8f3"
  },
  {
   "cell_type": "code",
   "execution_count": 1,
   "outputs": [],
   "source": [
    "import pandas as pd\n",
    "import sqlite3\n",
    "from sklearn.ensemble import RandomForestRegressor\n",
    "from sklearn.model_selection import train_test_split\n",
    "from sklearn.metrics import mean_squared_error, mean_absolute_error, r2_score\n",
    "import numpy as np\n",
    "from sklearn.preprocessing import OneHotEncoder"
   ],
   "metadata": {
    "collapsed": false,
    "ExecuteTime": {
     "end_time": "2024-03-18T17:36:19.888994700Z",
     "start_time": "2024-03-18T17:36:17.814537200Z"
    }
   },
   "id": "bf780782b1157321"
  },
  {
   "cell_type": "code",
   "execution_count": 2,
   "outputs": [],
   "source": [
    "# Connect to database\n",
    "conn = sqlite3.connect('cleaned_customer_support.db')\n",
    "data = pd.read_sql_query(\"SELECT * FROM cleaned_customer_support\", conn)\n",
    "y = data['CSAT_Score']"
   ],
   "metadata": {
    "collapsed": false,
    "ExecuteTime": {
     "end_time": "2024-03-18T17:36:20.127876400Z",
     "start_time": "2024-03-18T17:36:19.890021700Z"
    }
   },
   "id": "9953ea2119f4b0ac"
  },
  {
   "cell_type": "code",
   "execution_count": 4,
   "outputs": [
    {
     "name": "stdout",
     "output_type": "stream",
     "text": [
      "Random Forest Model using multiple features:\n",
      "RMSE: 1.5291\n",
      "R-squared: 0.0113\n",
      "\n",
      "Top 5 Important Features for the Model:\n",
      "response_time_minutes: 0.3004\n",
      "issue_reported_hour_of_day: 0.1970\n",
      "issue_reported_day_of_week: 0.1322\n",
      "Agent Shift_Morning: 0.0215\n",
      "Tenure Bucket_>90: 0.0215\n"
     ]
    }
   ],
   "source": [
    "# Preprocess categorical features using OneHotEncoder\n",
    "encoder = OneHotEncoder()\n",
    "encoded_features = encoder.fit_transform(data[['Agent Shift', 'Tenure Bucket', 'channel_name', 'category', 'Sub-category']])\n",
    "encoded_feature_names = encoder.get_feature_names_out(['Agent Shift', 'Tenure Bucket', 'channel_name', 'category', 'Sub-category'])\n",
    "\n",
    "# Combine numerical and encoded categorical features\n",
    "X_combined = pd.concat([data[['issue_reported_hour_of_day', 'response_time_minutes', 'issue_reported_day_of_week']],\n",
    "                        pd.DataFrame(encoded_features.toarray(), columns=encoded_feature_names)], axis=1)\n",
    "\n",
    "# Split the data into training and testing sets\n",
    "X_train, X_test, y_train, y_test = train_test_split(X_combined, y, test_size=0.2, random_state=42)\n",
    "\n",
    "# Train a Random Forest Regressor on the combined features\n",
    "model_rf = RandomForestRegressor()\n",
    "model_rf.fit(X_train, y_train)\n",
    "y_pred_rf = model_rf.predict(X_test)\n",
    "rmse_rf = np.sqrt(mean_squared_error(y_test, y_pred_rf))\n",
    "r2_rf = r2_score(y_test, y_pred_rf)\n",
    "\n",
    "# Print results for the Random Forest model using multiple features\n",
    "print(\"Random Forest Model using multiple features:\")\n",
    "print(f'RMSE: {rmse_rf:.4f}')\n",
    "print(f'R-squared: {r2_rf:.4f}')\n",
    "\n",
    "# Print top 5 important features for the model\n",
    "feature_importances = model_rf.feature_importances_\n",
    "sorted_indices = np.argsort(feature_importances)[::-1]\n",
    "top_features = [X_combined.columns[i] for i in sorted_indices[:5]]\n",
    "top_importances = feature_importances[sorted_indices[:5]]\n",
    "print(\"\\nTop 5 Important Features for the Model:\")\n",
    "for feature, importance in zip(top_features, top_importances):\n",
    "    print(f\"{feature}: {importance:.4f}\")"
   ],
   "metadata": {
    "collapsed": false,
    "ExecuteTime": {
     "end_time": "2024-03-18T17:39:22.038689100Z",
     "start_time": "2024-03-18T17:39:07.426575900Z"
    }
   },
   "id": "37f265babb8f8903"
  }
 ],
 "metadata": {
  "kernelspec": {
   "display_name": "Python 3",
   "language": "python",
   "name": "python3"
  },
  "language_info": {
   "codemirror_mode": {
    "name": "ipython",
    "version": 2
   },
   "file_extension": ".py",
   "mimetype": "text/x-python",
   "name": "python",
   "nbconvert_exporter": "python",
   "pygments_lexer": "ipython2",
   "version": "2.7.6"
  }
 },
 "nbformat": 4,
 "nbformat_minor": 5
}

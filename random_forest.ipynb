{
 "cells": [
  {
   "cell_type": "markdown",
   "source": [
    "### Importing required packages"
   ],
   "metadata": {
    "collapsed": false
   },
   "id": "a9a662e018b76a9"
  },
  {
   "cell_type": "code",
   "execution_count": null,
   "outputs": [],
   "source": [
    "import pandas as pd\n",
    "import numpy as np\n",
    "import sqlite3\n",
    "from matplotlib import pyplot as plt\n",
    "from sklearn.ensemble import RandomForestRegressor\n",
    "from sklearn.model_selection import train_test_split\n",
    "from sklearn.metrics import mean_squared_error, mean_absolute_error, r2_score\n",
    "from sklearn.preprocessing import OneHotEncoder\n",
    "from sklearn.neural_network import MLPRegressor"
   ],
   "metadata": {
    "collapsed": false
   },
   "id": "cc9372b886b7840e"
  },
  {
   "cell_type": "markdown",
   "source": [
    "#### Connect to database"
   ],
   "metadata": {
    "collapsed": false
   },
   "id": "5e5e64ca1fbe8127"
  },
  {
   "cell_type": "code",
   "execution_count": null,
   "outputs": [],
   "source": [
    "conn = sqlite3.connect('cleaned_customer_support.db')\n",
    "data = pd.read_sql_query(\"SELECT * FROM cleaned_customer_support\", conn)\n",
    "y = data['CSAT_Score']"
   ],
   "metadata": {
    "collapsed": false
   },
   "id": "9f697b4167901c41"
  },
  {
   "cell_type": "markdown",
   "source": [
    "## Random Forest"
   ],
   "metadata": {
    "collapsed": false
   },
   "id": "5007242d04818fbf"
  },
  {
   "cell_type": "markdown",
   "source": [
    "#### Initializing plotting function"
   ],
   "metadata": {
    "collapsed": false
   },
   "id": "b21e4fa250763ade"
  },
  {
   "cell_type": "code",
   "execution_count": null,
   "outputs": [],
   "source": [
    "def plot(r2, rmse, y_pred):\n",
    "    print(f'RMSE: {rmse:.4f},R2 Score: {r2}')\n",
    "    \n",
    "    # Plot actual vs predicted CSAT scores\n",
    "    plt.scatter(data['CSAT_Score'], y_pred, alpha=1)\n",
    "    plt.xlabel('Actual CSAT Scores')\n",
    "    plt.ylabel('Predicted CSAT Scores')\n",
    "    plt.title(f'Actual vs Predicted CSAT Scores - RMSE: {rmse:.4f}')\n",
    "    plt.show()\n",
    "    return rmse"
   ],
   "metadata": {
    "collapsed": false
   },
   "id": "cb2350cacc1b49b"
  },
  {
   "cell_type": "markdown",
   "source": [
    "#### Split and preprocess data"
   ],
   "metadata": {
    "collapsed": false
   },
   "id": "81cd9bc08b27fb1a"
  },
  {
   "cell_type": "code",
   "execution_count": null,
   "outputs": [],
   "source": [
    "# Preprocess categorical features using OneHotEncoder\n",
    "encoder = OneHotEncoder()\n",
    "encoded_features = encoder.fit_transform(data[['Agent Shift', 'Tenure Bucket', 'channel_name', 'category', 'Sub-category', 'Supervisor', 'Manager']])\n",
    "encoded_feature_names = encoder.get_feature_names_out(['Agent Shift', 'Tenure Bucket', 'channel_name', 'category', 'Sub-category', 'Supervisor', 'Manager'])\n",
    "\n",
    "# Combine numerical and encoded categorical features\n",
    "X = pd.concat([data[['issue_reported_hour_of_day', 'response_time_minutes', 'issue_reported_day_of_week', 'sentiment_score']], pd.DataFrame(encoded_features.toarray(), columns=encoded_feature_names)], axis=1)\n",
    "\n",
    "# Split the data into training and testing sets\n",
    "X_train, X_test, y_train, y_test = train_test_split(X, y, test_size=0.2, random_state=42)"
   ],
   "metadata": {
    "collapsed": false
   },
   "id": "3ed1a9ba93193a49"
  },
  {
   "cell_type": "markdown",
   "source": [
    "#### Train a Random Forest Regressor on the combined features"
   ],
   "metadata": {
    "collapsed": false
   },
   "id": "47b8dd6aa0725ccb"
  },
  {
   "cell_type": "code",
   "execution_count": null,
   "outputs": [],
   "source": [
    "model_rf = RandomForestRegressor()\n",
    "model_rf.fit(X_train, y_train)\n",
    "\n",
    "feature_importances = model_rf.feature_importances_\n",
    "sorted_indices = np.argsort(feature_importances)[::-1]\n",
    "top_features = [X.columns[i] for i in sorted_indices[:5]]\n",
    "top_importances = feature_importances[sorted_indices[:5]]"
   ],
   "metadata": {
    "collapsed": false
   },
   "id": "4898c2101a59960b"
  },
  {
   "cell_type": "markdown",
   "source": [
    "#### Print top 5 important features for the model"
   ],
   "metadata": {
    "collapsed": false
   },
   "id": "e5bc4d1eda6bff3f"
  },
  {
   "cell_type": "code",
   "execution_count": null,
   "outputs": [],
   "source": [
    "print(\"\\nTop 5 Important Features for the Model:\")\n",
    "for feature, importance in zip(top_features, top_importances):\n",
    "    print(f\"{feature}: {importance:.4f}\")"
   ],
   "metadata": {
    "collapsed": false
   },
   "id": "4785bc16bd81798d"
  },
  {
   "cell_type": "markdown",
   "source": [
    "#### Calculate and print results for the MLP model using multiple features "
   ],
   "metadata": {
    "collapsed": false
   },
   "id": "a03b121484389c39"
  },
  {
   "cell_type": "code",
   "execution_count": null,
   "outputs": [],
   "source": [
    "y_pred_rf = model_rf.predict(X_test)\n",
    "rmse_rf = np.sqrt(mean_squared_error(y_test, y_pred_rf))\n",
    "mae_rf = mean_absolute_error(y_test, y_pred_rf)\n",
    "r2_rf = r2_score(y_test, y_pred_rf)\n",
    "\n",
    "# Print results for the Random Forest model using multiple features\n",
    "print(\"Random Forest Model using multiple features:\")\n",
    "print(f'RMSE: {rmse_rf:.4f}')\n",
    "print(f'MAE: {mae_rf:.4f}')\n",
    "print(f'R-squared: {r2_rf:.4f}')"
   ],
   "metadata": {
    "collapsed": false
   },
   "id": "cfbcc699966f6b44"
  },
  {
   "cell_type": "markdown",
   "source": [
    "#### Plotting actual vs predicted results"
   ],
   "metadata": {
    "collapsed": false
   },
   "id": "80c4c861064c2c27"
  },
  {
   "cell_type": "code",
   "execution_count": null,
   "outputs": [],
   "source": [
    "plt.figure(figsize=(10, 6))\n",
    "plt.scatter(y_test, y_pred_rf, alpha=0.5)\n",
    "plt.plot([min(y_test), max(y_test)], [min(y_test), max(y_test)], '--', color='red')\n",
    "plt.title('Actual vs. Predicted Values (Random Forest)')\n",
    "plt.xlabel('Actual Values')\n",
    "plt.ylabel('Predicted Values')\n",
    "plt.grid(True)\n",
    "plt.show()"
   ],
   "metadata": {
    "collapsed": false
   },
   "id": "c31f0568fd9dc19a"
  },
  {
   "cell_type": "markdown",
   "source": [
    "#### Analyzing results"
   ],
   "metadata": {
    "collapsed": false
   },
   "id": "8dedd152ef149fff"
  },
  {
   "cell_type": "code",
   "execution_count": null,
   "outputs": [],
   "source": [
    "# TODO: Add analysis for random forest results "
   ],
   "metadata": {
    "collapsed": false
   },
   "id": "d948aad59e1ff575"
  },
  {
   "cell_type": "markdown",
   "source": [
    "## Multi-Layer Perceptron"
   ],
   "metadata": {
    "collapsed": false
   },
   "id": "9dba8cdd78239a7a"
  },
  {
   "cell_type": "markdown",
   "source": [
    "#### Split and preprocess data"
   ],
   "metadata": {
    "collapsed": false
   },
   "id": "cc31f2d120203a2e"
  },
  {
   "cell_type": "code",
   "execution_count": null,
   "outputs": [],
   "source": [
    "# Preprocess categorical features using OneHotEncoder\n",
    "encoder = OneHotEncoder()\n",
    "encoded_features = encoder.fit_transform(data[['Agent Shift', 'Tenure Bucket', 'channel_name', 'category', 'Sub-category', 'Supervisor', 'Manager']])\n",
    "encoded_feature_names = encoder.get_feature_names_out(['Agent Shift', 'Tenure Bucket', 'channel_name', 'category', 'Sub-category', 'Supervisor', 'Manager'])\n",
    "\n",
    "# Combine numerical and encoded categorical features\n",
    "X = pd.concat([data[['issue_reported_hour_of_day', 'response_time_minutes', 'issue_reported_day_of_week', 'sentiment_score']], pd.DataFrame(encoded_features.toarray(), columns=encoded_feature_names)], axis=1)\n",
    "\n",
    "# Split the data into training and testing sets\n",
    "X_train, X_test, y_train, y_test = train_test_split(X, y, test_size=0.2, random_state=42)"
   ],
   "metadata": {
    "collapsed": false
   },
   "id": "cf1da62c976759c9"
  },
  {
   "cell_type": "markdown",
   "source": [
    "#### Train Multi-Layer Perceptron Regressor on the combined features"
   ],
   "metadata": {
    "collapsed": false
   },
   "id": "53fc1cd357783893"
  },
  {
   "cell_type": "code",
   "execution_count": null,
   "outputs": [],
   "source": [
    "model_mlp = MLPRegressor(hidden_layer_sizes=(100, 50), activation='relu', solver='adam', max_iter=500, random_state=42)\n",
    "model_mlp.fit(X_train, y_train)\n",
    "y_pred_mlp = model_mlp.predict(X_test)\n",
    "y_pred_mlp = np.clip(y_pred_mlp, 0, 5)"
   ],
   "metadata": {
    "collapsed": false
   },
   "id": "8b1b7f650f4f4736"
  },
  {
   "cell_type": "markdown",
   "source": [
    "#### Calculate and print results for the MLP model using multiple features "
   ],
   "metadata": {
    "collapsed": false
   },
   "id": "37af4e72b93005e2"
  },
  {
   "cell_type": "code",
   "execution_count": null,
   "outputs": [],
   "source": [
    "rmse = np.sqrt(mean_squared_error(y_test, y_pred_mlp))\n",
    "mae = mean_absolute_error(y_test, y_pred_mlp)\n",
    "r2 = r2_score(y_test, y_pred_mlp)\n",
    "\n",
    "print(\"MLP Model using multiple features:\")\n",
    "print(f'RMSE: {rmse:.4f}')\n",
    "print(f'MAE: {mae:.4f}')\n",
    "print(f'R-squared: {r2:.4f}')"
   ],
   "metadata": {
    "collapsed": false
   },
   "id": "4c85277a9e743e90"
  },
  {
   "cell_type": "markdown",
   "source": [
    "#### Plotting actual vs predicted results"
   ],
   "metadata": {
    "collapsed": false
   },
   "id": "43fca943a20faf89"
  },
  {
   "cell_type": "code",
   "execution_count": null,
   "outputs": [],
   "source": [
    "plt.figure(figsize=(10, 6))\n",
    "plt.scatter(y_test, y_pred_mlp, alpha=0.5)\n",
    "plt.plot([min(y_test), max(y_test)], [min(y_test), max(y_test)], '--', color='red')\n",
    "plt.title('Actual vs. Predicted Values (MLP)')\n",
    "plt.xlabel('Actual Values')\n",
    "plt.ylabel('Predicted Values')\n",
    "plt.grid(True)\n",
    "plt.show()"
   ],
   "metadata": {
    "collapsed": false
   },
   "id": "f3189a1e873d58a5"
  },
  {
   "cell_type": "markdown",
   "source": [
    "#### Analyzing results"
   ],
   "metadata": {
    "collapsed": false
   },
   "id": "e8740de9ecc754e2"
  },
  {
   "cell_type": "code",
   "execution_count": null,
   "outputs": [],
   "source": [
    "# TODO: Finish analysis for MLP results "
   ],
   "metadata": {
    "collapsed": false
   },
   "id": "173d8bb7edcfbbab"
  },
  {
   "cell_type": "markdown",
   "source": [
    "Comparing the line of best fit (red) to the predicted values, we can see that there was an improvement in prediction accuracy compared to Random Forest. The values here have been clipped to fit the 0-5 CSAT score range."
   ],
   "metadata": {
    "collapsed": false
   },
   "id": "779d994e4d88ea98"
  }
 ],
 "metadata": {
  "kernelspec": {
   "display_name": "Python 3",
   "language": "python",
   "name": "python3"
  },
  "language_info": {
   "codemirror_mode": {
    "name": "ipython",
    "version": 2
   },
   "file_extension": ".py",
   "mimetype": "text/x-python",
   "name": "python",
   "nbconvert_exporter": "python",
   "pygments_lexer": "ipython2",
   "version": "2.7.6"
  }
 },
 "nbformat": 4,
 "nbformat_minor": 5
}

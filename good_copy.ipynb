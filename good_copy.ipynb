{
 "cells": [
  {
   "cell_type": "markdown",
   "metadata": {
    "id": "-9xnLmGdZc8I"
   },
   "source": [
    "# Data preparation and cleaning\n",
    "\n"
   ]
  },
  {
   "cell_type": "markdown",
   "metadata": {},
   "source": [
    "### Imports for the whole project"
   ]
  },
  {
   "cell_type": "code",
   "execution_count": 43,
   "metadata": {
    "ExecuteTime": {
     "end_time": "2024-03-31T03:43:44.717059Z",
     "start_time": "2024-03-31T03:43:44.714266300Z"
    }
   },
   "outputs": [],
   "source": [
    "import sqlite3, gc\n",
    "import pandas as pd\n",
    "import numpy as np\n",
    "import torch\n",
    "from transformers import BertTokenizer, BertForSequenceClassification, pipeline\n",
    "from sklearn.ensemble import RandomForestClassifier\n",
    "from sklearn.metrics import classification_report\n",
    "from sklearn.preprocessing import OneHotEncoder\n",
    "from sklearn.model_selection import train_test_split, GridSearchCV\n",
    "import matplotlib.pyplot as plt\n",
    "import seaborn as sns\n",
    "from sklearn.metrics import confusion_matrix\n",
    "from sklearn.metrics import accuracy_score\n",
    "from sklearn.neural_network import MLPClassifier\n",
    "from imblearn.over_sampling import SMOTE\n",
    "from imblearn.under_sampling import RandomUnderSampler\n",
    "from imblearn.pipeline import Pipeline\n",
    "from textblob import TextBlob"
   ]
  },
  {
   "cell_type": "markdown",
   "metadata": {},
   "source": [
    "### Connection to database"
   ]
  },
  {
   "cell_type": "code",
   "execution_count": 5,
   "metadata": {
    "colab": {
     "base_uri": "https://localhost:8080/"
    },
    "id": "sdHlLc9ZOV7R",
    "outputId": "df52d57b-bee9-43be-aca6-045659d70d45"
   },
   "outputs": [
    {
     "name": "stdout",
     "output_type": "stream",
     "text": [
      "First few rows of the dataset:\n",
      "                              Unique id channel_name         category  \\\n",
      "0  7e9ae164-6a8b-4521-a2d4-58f7c9fff13f      Outcall  Product Queries   \n",
      "1  b07ec1b0-f376-43b6-86df-ec03da3b2e16      Outcall  Product Queries   \n",
      "2  200814dd-27c7-4149-ba2b-bd3af3092880      Inbound    Order Related   \n",
      "3  eb0d3e53-c1ca-42d3-8486-e42c8d622135      Inbound          Returns   \n",
      "4  ba903143-1e54-406c-b969-46c52f92e5df      Inbound     Cancellation   \n",
      "\n",
      "                   Sub-category Customer_Remarks  \\\n",
      "0                Life Insurance              NaN   \n",
      "1  Product Specific Information              NaN   \n",
      "2             Installation/demo              NaN   \n",
      "3        Reverse Pickup Enquiry              NaN   \n",
      "4                    Not Needed              NaN   \n",
      "\n",
      "                               Order_id order_date_time Issue_reported at  \\\n",
      "0  c27c9bb4-fa36-4140-9f1f-21009254ffdb             NaN  01/08/2023 11:13   \n",
      "1  d406b0c7-ce17-4654-b9de-f08d421254bd             NaN  01/08/2023 12:52   \n",
      "2  c273368d-b961-44cb-beaf-62d6fd6c00d5             NaN  01/08/2023 20:16   \n",
      "3  5aed0059-55a4-4ec6-bb54-97942092020a             NaN  01/08/2023 20:56   \n",
      "4  e8bed5a9-6933-4aff-9dc6-ccefd7dcde59             NaN  01/08/2023 10:30   \n",
      "\n",
      "    issue_responded Survey_response_Date Customer_City Product_category  \\\n",
      "0  01/08/2023 11:47            01-Aug-23           NaN              NaN   \n",
      "1  01/08/2023 12:54            01-Aug-23           NaN              NaN   \n",
      "2  01/08/2023 20:38            01-Aug-23           NaN              NaN   \n",
      "3  01/08/2023 21:16            01-Aug-23           NaN              NaN   \n",
      "4  01/08/2023 10:32            01-Aug-23           NaN              NaN   \n",
      "\n",
      "   Item_price  connected_handling_time           Agent_name      Supervisor  \\\n",
      "0         NaN                      NaN     Richard Buchanan     Mason Gupta   \n",
      "1         NaN                      NaN        Vicki Collins       Dylan Kim   \n",
      "2         NaN                      NaN         Duane Norman    Jackson Park   \n",
      "3         NaN                      NaN       Patrick Flores     Olivia Wang   \n",
      "4         NaN                      NaN  Christopher Sanchez  Austin Johnson   \n",
      "\n",
      "           Manager    Tenure Bucket Agent Shift  CSAT_Score  \n",
      "0  Jennifer Nguyen  On Job Training     Morning           5  \n",
      "1      Michael Lee              >90     Morning           5  \n",
      "2      William Kim  On Job Training     Evening           5  \n",
      "3       John Smith              >90     Evening           5  \n",
      "4      Michael Lee             0-30     Morning           5  \n",
      "\n",
      "Sample rows from the 'customer_support' table:\n",
      "('7e9ae164-6a8b-4521-a2d4-58f7c9fff13f', 'Outcall', 'Product Queries', 'Life Insurance', None, 'c27c9bb4-fa36-4140-9f1f-21009254ffdb', None, '01/08/2023 11:13', '01/08/2023 11:47', '01-Aug-23', None, None, None, None, 'Richard Buchanan', 'Mason Gupta', 'Jennifer Nguyen', 'On Job Training', 'Morning', 5)\n",
      "('b07ec1b0-f376-43b6-86df-ec03da3b2e16', 'Outcall', 'Product Queries', 'Product Specific Information', None, 'd406b0c7-ce17-4654-b9de-f08d421254bd', None, '01/08/2023 12:52', '01/08/2023 12:54', '01-Aug-23', None, None, None, None, 'Vicki Collins', 'Dylan Kim', 'Michael Lee', '>90', 'Morning', 5)\n",
      "('200814dd-27c7-4149-ba2b-bd3af3092880', 'Inbound', 'Order Related', 'Installation/demo', None, 'c273368d-b961-44cb-beaf-62d6fd6c00d5', None, '01/08/2023 20:16', '01/08/2023 20:38', '01-Aug-23', None, None, None, None, 'Duane Norman', 'Jackson Park', 'William Kim', 'On Job Training', 'Evening', 5)\n",
      "('eb0d3e53-c1ca-42d3-8486-e42c8d622135', 'Inbound', 'Returns', 'Reverse Pickup Enquiry', None, '5aed0059-55a4-4ec6-bb54-97942092020a', None, '01/08/2023 20:56', '01/08/2023 21:16', '01-Aug-23', None, None, None, None, 'Patrick Flores', 'Olivia Wang', 'John Smith', '>90', 'Evening', 5)\n",
      "('ba903143-1e54-406c-b969-46c52f92e5df', 'Inbound', 'Cancellation', 'Not Needed', None, 'e8bed5a9-6933-4aff-9dc6-ccefd7dcde59', None, '01/08/2023 10:30', '01/08/2023 10:32', '01-Aug-23', None, None, None, None, 'Christopher Sanchez', 'Austin Johnson', 'Michael Lee', '0-30', 'Morning', 5)\n",
      "\n",
      "Database operations completed successfully.\n"
     ]
    }
   ],
   "source": [
    "dataset_path = 'Customer_support_data.csv'\n",
    "data = pd.read_csv(dataset_path)\n",
    "\n",
    "data.rename(columns={'Customer Remarks': 'Customer_Remarks', 'CSAT Score': 'CSAT_Score'}, inplace=True)\n",
    "\n",
    "# Print the first few rows of the dataset to confirm it's loaded correctly\n",
    "print(\"First few rows of the dataset:\")\n",
    "print(data.head())\n",
    "\n",
    "# Connect to SQLite database (or create it if it doesn't exist)\n",
    "conn = sqlite3.connect('customer_support.db')\n",
    "data.to_sql('customer_support', conn, if_exists='replace', index=False)\n",
    "cur = conn.cursor()\n",
    "print(\"\\nSample rows from the 'customer_support' table:\")\n",
    "for row in cur.execute('SELECT * FROM customer_support LIMIT 5'):  # Adjust the LIMIT for more or fewer rows\n",
    "    print(row)\n",
    "conn.close()\n",
    "\n",
    "# Confirm that the database operations are complete\n",
    "print(\"\\nDatabase operations completed successfully.\")"
   ]
  },
  {
   "cell_type": "markdown",
   "metadata": {},
   "source": [
    "### Checking null values within the db"
   ]
  },
  {
   "cell_type": "code",
   "execution_count": 6,
   "metadata": {
    "colab": {
     "base_uri": "https://localhost:8080/"
    },
    "id": "PfpjD3A2a_gm",
    "outputId": "49847a43-5cca-4b0a-821a-fdefb7d93c45"
   },
   "outputs": [
    {
     "name": "stdout",
     "output_type": "stream",
     "text": [
      "DataFrame Information:\n",
      "<class 'pandas.core.frame.DataFrame'>\n",
      "RangeIndex: 85907 entries, 0 to 85906\n",
      "Data columns (total 20 columns):\n",
      " #   Column                   Non-Null Count  Dtype  \n",
      "---  ------                   --------------  -----  \n",
      " 0   Unique id                85907 non-null  object \n",
      " 1   channel_name             85907 non-null  object \n",
      " 2   category                 85907 non-null  object \n",
      " 3   Sub-category             85907 non-null  object \n",
      " 4   Customer_Remarks         28742 non-null  object \n",
      " 5   Order_id                 67675 non-null  object \n",
      " 6   order_date_time          17214 non-null  object \n",
      " 7   Issue_reported at        85907 non-null  object \n",
      " 8   issue_responded          85907 non-null  object \n",
      " 9   Survey_response_Date     85907 non-null  object \n",
      " 10  Customer_City            17079 non-null  object \n",
      " 11  Product_category         17196 non-null  object \n",
      " 12  Item_price               17206 non-null  float64\n",
      " 13  connected_handling_time  242 non-null    float64\n",
      " 14  Agent_name               85907 non-null  object \n",
      " 15  Supervisor               85907 non-null  object \n",
      " 16  Manager                  85907 non-null  object \n",
      " 17  Tenure Bucket            85907 non-null  object \n",
      " 18  Agent Shift              85907 non-null  object \n",
      " 19  CSAT_Score               85907 non-null  int64  \n",
      "dtypes: float64(2), int64(1), object(17)\n",
      "memory usage: 13.1+ MB\n",
      "None\n",
      "\n",
      "Descriptive Statistics:\n",
      "          Item_price  connected_handling_time    CSAT_Score\n",
      "count   17206.000000               242.000000  85907.000000\n",
      "mean     5660.774846               462.400826      4.242157\n",
      "std     12825.728411               246.295037      1.378903\n",
      "min         0.000000                 0.000000      1.000000\n",
      "25%       392.000000               293.000000      4.000000\n",
      "50%       979.000000               427.000000      5.000000\n",
      "75%      2699.750000               592.250000      5.000000\n",
      "max    164999.000000              1986.000000      5.000000\n",
      "\n",
      "First 5 Rows of the DataFrame:\n",
      "                              Unique id channel_name         category  \\\n",
      "0  7e9ae164-6a8b-4521-a2d4-58f7c9fff13f      Outcall  Product Queries   \n",
      "1  b07ec1b0-f376-43b6-86df-ec03da3b2e16      Outcall  Product Queries   \n",
      "2  200814dd-27c7-4149-ba2b-bd3af3092880      Inbound    Order Related   \n",
      "3  eb0d3e53-c1ca-42d3-8486-e42c8d622135      Inbound          Returns   \n",
      "4  ba903143-1e54-406c-b969-46c52f92e5df      Inbound     Cancellation   \n",
      "\n",
      "                   Sub-category Customer_Remarks  \\\n",
      "0                Life Insurance             None   \n",
      "1  Product Specific Information             None   \n",
      "2             Installation/demo             None   \n",
      "3        Reverse Pickup Enquiry             None   \n",
      "4                    Not Needed             None   \n",
      "\n",
      "                               Order_id order_date_time Issue_reported at  \\\n",
      "0  c27c9bb4-fa36-4140-9f1f-21009254ffdb            None  01/08/2023 11:13   \n",
      "1  d406b0c7-ce17-4654-b9de-f08d421254bd            None  01/08/2023 12:52   \n",
      "2  c273368d-b961-44cb-beaf-62d6fd6c00d5            None  01/08/2023 20:16   \n",
      "3  5aed0059-55a4-4ec6-bb54-97942092020a            None  01/08/2023 20:56   \n",
      "4  e8bed5a9-6933-4aff-9dc6-ccefd7dcde59            None  01/08/2023 10:30   \n",
      "\n",
      "    issue_responded Survey_response_Date Customer_City Product_category  \\\n",
      "0  01/08/2023 11:47            01-Aug-23          None             None   \n",
      "1  01/08/2023 12:54            01-Aug-23          None             None   \n",
      "2  01/08/2023 20:38            01-Aug-23          None             None   \n",
      "3  01/08/2023 21:16            01-Aug-23          None             None   \n",
      "4  01/08/2023 10:32            01-Aug-23          None             None   \n",
      "\n",
      "   Item_price  connected_handling_time           Agent_name      Supervisor  \\\n",
      "0         NaN                      NaN     Richard Buchanan     Mason Gupta   \n",
      "1         NaN                      NaN        Vicki Collins       Dylan Kim   \n",
      "2         NaN                      NaN         Duane Norman    Jackson Park   \n",
      "3         NaN                      NaN       Patrick Flores     Olivia Wang   \n",
      "4         NaN                      NaN  Christopher Sanchez  Austin Johnson   \n",
      "\n",
      "           Manager    Tenure Bucket Agent Shift  CSAT_Score  \n",
      "0  Jennifer Nguyen  On Job Training     Morning           5  \n",
      "1      Michael Lee              >90     Morning           5  \n",
      "2      William Kim  On Job Training     Evening           5  \n",
      "3       John Smith              >90     Evening           5  \n",
      "4      Michael Lee             0-30     Morning           5  \n",
      "\n",
      "Count of Null Values in Each Column:\n",
      "Unique id                      0\n",
      "channel_name                   0\n",
      "category                       0\n",
      "Sub-category                   0\n",
      "Customer_Remarks           57165\n",
      "Order_id                   18232\n",
      "order_date_time            68693\n",
      "Issue_reported at              0\n",
      "issue_responded                0\n",
      "Survey_response_Date           0\n",
      "Customer_City              68828\n",
      "Product_category           68711\n",
      "Item_price                 68701\n",
      "connected_handling_time    85665\n",
      "Agent_name                     0\n",
      "Supervisor                     0\n",
      "Manager                        0\n",
      "Tenure Bucket                  0\n",
      "Agent Shift                    0\n",
      "CSAT_Score                     0\n",
      "dtype: int64\n",
      "Number of rows with no null values: 38\n",
      "Total number of rows: 85907\n"
     ]
    }
   ],
   "source": [
    "conn = sqlite3.connect('customer_support.db')\n",
    "customer_support_df = pd.read_sql_query(\"SELECT * FROM customer_support\", conn)\n",
    "print(\"DataFrame Information:\")\n",
    "print(customer_support_df.info())\n",
    "print(\"\\nDescriptive Statistics:\")\n",
    "print(customer_support_df.describe())\n",
    "print(\"\\nFirst 5 Rows of the DataFrame:\")\n",
    "print(customer_support_df.head())\n",
    "print(\"\\nCount of Null Values in Each Column:\")\n",
    "print(customer_support_df.isnull().sum())\n",
    "num_rows_no_nulls = customer_support_df.dropna().shape[0]\n",
    "print(f\"Number of rows with no null values: {num_rows_no_nulls}\")\n",
    "total_rows = customer_support_df.shape[0]\n",
    "print(f\"Total number of rows: {total_rows}\")\n",
    "conn.close()"
   ]
  },
  {
   "cell_type": "markdown",
   "metadata": {},
   "source": [
    "### Processing data in the database"
   ]
  },
  {
   "cell_type": "code",
   "execution_count": 7,
   "metadata": {
    "colab": {
     "base_uri": "https://localhost:8080/"
    },
    "id": "wl-jpLg3jgFK",
    "outputId": "13c0850d-8ccc-415f-8ca4-24d496f02cc1"
   },
   "outputs": [
    {
     "name": "stderr",
     "output_type": "stream",
     "text": [
      "C:\\Users\\matth\\AppData\\Local\\Temp\\ipykernel_15420\\3325128775.py:4: UserWarning: Could not infer format, so each element will be parsed individually, falling back to `dateutil`. To ensure parsing is consistent and as-expected, please specify a format.\n",
      "  customer_support_df['Survey_response_Date'] = pd.to_datetime(customer_support_df['Survey_response_Date'], dayfirst=True)\n"
     ]
    },
    {
     "name": "stdout",
     "output_type": "stream",
     "text": [
      "DataFrame Information:\n",
      "<class 'pandas.core.frame.DataFrame'>\n",
      "RangeIndex: 85907 entries, 0 to 85906\n",
      "Data columns (total 26 columns):\n",
      " #   Column                      Non-Null Count  Dtype         \n",
      "---  ------                      --------------  -----         \n",
      " 0   Unique id                   85907 non-null  object        \n",
      " 1   channel_name                85907 non-null  object        \n",
      " 2   category                    85907 non-null  object        \n",
      " 3   Sub-category                85907 non-null  object        \n",
      " 4   Customer_Remarks            28742 non-null  object        \n",
      " 5   Order_id                    67675 non-null  object        \n",
      " 6   order_date_time             17214 non-null  datetime64[ns]\n",
      " 7   Issue_reported at           85907 non-null  datetime64[ns]\n",
      " 8   issue_responded             85907 non-null  datetime64[ns]\n",
      " 9   Survey_response_Date        85907 non-null  datetime64[ns]\n",
      " 10  Customer_City               17079 non-null  object        \n",
      " 11  Product_category            17196 non-null  object        \n",
      " 12  Item_price                  17206 non-null  float64       \n",
      " 13  connected_handling_time     242 non-null    float64       \n",
      " 14  Agent_name                  85907 non-null  object        \n",
      " 15  Supervisor                  85907 non-null  object        \n",
      " 16  Manager                     85907 non-null  object        \n",
      " 17  Tenure Bucket               85907 non-null  object        \n",
      " 18  Agent Shift                 85907 non-null  object        \n",
      " 19  CSAT_Score                  85907 non-null  int64         \n",
      " 20  response_time_minutes       85907 non-null  float64       \n",
      " 21  order_hour_of_day           17214 non-null  float64       \n",
      " 22  issue_reported_hour_of_day  85907 non-null  int32         \n",
      " 23  order_day_of_week           17214 non-null  float64       \n",
      " 24  issue_reported_day_of_week  85907 non-null  int32         \n",
      " 25  elapsed_days_to_survey      17214 non-null  float64       \n",
      "dtypes: datetime64[ns](4), float64(6), int32(2), int64(1), object(13)\n",
      "memory usage: 16.4+ MB\n",
      "None\n",
      "\n",
      "Descriptive Statistics:\n",
      "                     order_date_time              Issue_reported at  \\\n",
      "count                          17214                          85907   \n",
      "mean   2023-07-28 15:49:45.820843520  2023-08-16 22:29:05.784394752   \n",
      "min              2022-01-16 13:15:00            2023-07-28 20:42:00   \n",
      "25%              2023-07-27 22:49:15            2023-08-09 12:48:00   \n",
      "50%              2023-08-04 22:16:30            2023-08-16 18:22:00   \n",
      "75%              2023-08-10 07:30:15            2023-08-24 17:33:30   \n",
      "max              2023-12-08 23:36:00            2023-08-31 23:58:00   \n",
      "std                              NaN                            NaN   \n",
      "\n",
      "                     issue_responded           Survey_response_Date  \\\n",
      "count                          85907                          85907   \n",
      "mean   2023-08-17 00:45:58.980990976  2023-08-16 10:18:31.760392192   \n",
      "min              2023-08-01 00:00:00            2023-08-01 00:00:00   \n",
      "25%              2023-08-09 15:02:30            2023-08-09 00:00:00   \n",
      "50%              2023-08-16 20:57:00            2023-08-16 00:00:00   \n",
      "75%              2023-08-24 19:27:00            2023-08-24 00:00:00   \n",
      "max              2023-08-31 23:59:00            2023-08-31 00:00:00   \n",
      "std                              NaN                            NaN   \n",
      "\n",
      "          Item_price  connected_handling_time    CSAT_Score  \\\n",
      "count   17206.000000               242.000000  85907.000000   \n",
      "mean     5660.774846               462.400826      4.242157   \n",
      "min         0.000000                 0.000000      1.000000   \n",
      "25%       392.000000               293.000000      4.000000   \n",
      "50%       979.000000               427.000000      5.000000   \n",
      "75%      2699.750000               592.250000      5.000000   \n",
      "max    164999.000000              1986.000000      5.000000   \n",
      "std     12825.728411               246.295037      1.378903   \n",
      "\n",
      "       response_time_minutes  order_hour_of_day  issue_reported_hour_of_day  \\\n",
      "count           85907.000000       17214.000000                85907.000000   \n",
      "mean              136.886610          14.349773                   14.583177   \n",
      "min             -1437.000000           0.000000                    0.000000   \n",
      "25%                 2.000000          10.000000                   11.000000   \n",
      "50%                 5.000000          15.000000                   15.000000   \n",
      "75%                35.000000          19.000000                   19.000000   \n",
      "max              5758.000000          23.000000                   23.000000   \n",
      "std               592.528551           5.963974                    5.002535   \n",
      "\n",
      "       order_day_of_week  issue_reported_day_of_week  elapsed_days_to_survey  \n",
      "count       17214.000000                85907.000000            17214.000000  \n",
      "mean            3.082491                    2.840455               17.467432  \n",
      "min             0.000000                    0.000000             -103.983333  \n",
      "25%             1.000000                    1.000000                5.299306  \n",
      "50%             3.000000                    3.000000                8.721181  \n",
      "75%             5.000000                    5.000000               15.153993  \n",
      "max             6.000000                    6.000000              583.586806  \n",
      "std             1.989791                    1.955829               40.623875  \n",
      "\n",
      "First 5 Rows of the DataFrame:\n",
      "                              Unique id channel_name         category  \\\n",
      "0  7e9ae164-6a8b-4521-a2d4-58f7c9fff13f      Outcall  Product Queries   \n",
      "1  b07ec1b0-f376-43b6-86df-ec03da3b2e16      Outcall  Product Queries   \n",
      "2  200814dd-27c7-4149-ba2b-bd3af3092880      Inbound    Order Related   \n",
      "3  eb0d3e53-c1ca-42d3-8486-e42c8d622135      Inbound          Returns   \n",
      "4  ba903143-1e54-406c-b969-46c52f92e5df      Inbound     Cancellation   \n",
      "\n",
      "                   Sub-category Customer_Remarks  \\\n",
      "0                Life Insurance             None   \n",
      "1  Product Specific Information             None   \n",
      "2             Installation/demo             None   \n",
      "3        Reverse Pickup Enquiry             None   \n",
      "4                    Not Needed             None   \n",
      "\n",
      "                               Order_id order_date_time   Issue_reported at  \\\n",
      "0  c27c9bb4-fa36-4140-9f1f-21009254ffdb             NaT 2023-08-01 11:13:00   \n",
      "1  d406b0c7-ce17-4654-b9de-f08d421254bd             NaT 2023-08-01 12:52:00   \n",
      "2  c273368d-b961-44cb-beaf-62d6fd6c00d5             NaT 2023-08-01 20:16:00   \n",
      "3  5aed0059-55a4-4ec6-bb54-97942092020a             NaT 2023-08-01 20:56:00   \n",
      "4  e8bed5a9-6933-4aff-9dc6-ccefd7dcde59             NaT 2023-08-01 10:30:00   \n",
      "\n",
      "      issue_responded Survey_response_Date  ...          Manager  \\\n",
      "0 2023-08-01 11:47:00           2023-08-01  ...  Jennifer Nguyen   \n",
      "1 2023-08-01 12:54:00           2023-08-01  ...      Michael Lee   \n",
      "2 2023-08-01 20:38:00           2023-08-01  ...      William Kim   \n",
      "3 2023-08-01 21:16:00           2023-08-01  ...       John Smith   \n",
      "4 2023-08-01 10:32:00           2023-08-01  ...      Michael Lee   \n",
      "\n",
      "     Tenure Bucket  Agent Shift  CSAT_Score response_time_minutes  \\\n",
      "0  On Job Training      Morning           5                  34.0   \n",
      "1              >90      Morning           5                   2.0   \n",
      "2  On Job Training      Evening           5                  22.0   \n",
      "3              >90      Evening           5                  20.0   \n",
      "4             0-30      Morning           5                   2.0   \n",
      "\n",
      "  order_hour_of_day issue_reported_hour_of_day order_day_of_week  \\\n",
      "0               NaN                         11               NaN   \n",
      "1               NaN                         12               NaN   \n",
      "2               NaN                         20               NaN   \n",
      "3               NaN                         20               NaN   \n",
      "4               NaN                         10               NaN   \n",
      "\n",
      "  issue_reported_day_of_week  elapsed_days_to_survey  \n",
      "0                          1                     NaN  \n",
      "1                          1                     NaN  \n",
      "2                          1                     NaN  \n",
      "3                          1                     NaN  \n",
      "4                          1                     NaN  \n",
      "\n",
      "[5 rows x 26 columns]\n",
      "\n",
      "Count of Null Values in Each Column:\n",
      "Unique id                         0\n",
      "channel_name                      0\n",
      "category                          0\n",
      "Sub-category                      0\n",
      "Customer_Remarks              57165\n",
      "Order_id                      18232\n",
      "order_date_time               68693\n",
      "Issue_reported at                 0\n",
      "issue_responded                   0\n",
      "Survey_response_Date              0\n",
      "Customer_City                 68828\n",
      "Product_category              68711\n",
      "Item_price                    68701\n",
      "connected_handling_time       85665\n",
      "Agent_name                        0\n",
      "Supervisor                        0\n",
      "Manager                           0\n",
      "Tenure Bucket                     0\n",
      "Agent Shift                       0\n",
      "CSAT_Score                        0\n",
      "response_time_minutes             0\n",
      "order_hour_of_day             68693\n",
      "issue_reported_hour_of_day        0\n",
      "order_day_of_week             68693\n",
      "issue_reported_day_of_week        0\n",
      "elapsed_days_to_survey        68693\n",
      "dtype: int64\n",
      "Number of rows with no null values: 38\n",
      "Total number of rows: 85907\n"
     ]
    }
   ],
   "source": [
    "customer_support_df['order_date_time'] = pd.to_datetime(customer_support_df['order_date_time'], dayfirst=True)\n",
    "customer_support_df['Issue_reported at'] = pd.to_datetime(customer_support_df['Issue_reported at'], dayfirst=True)\n",
    "customer_support_df['issue_responded'] = pd.to_datetime(customer_support_df['issue_responded'], dayfirst=True)\n",
    "customer_support_df['Survey_response_Date'] = pd.to_datetime(customer_support_df['Survey_response_Date'], dayfirst=True)\n",
    "customer_support_df['response_time_minutes'] = (customer_support_df['issue_responded'] - customer_support_df[\n",
    "    'Issue_reported at']).dt.total_seconds() / 60\n",
    "customer_support_df['order_hour_of_day'] = customer_support_df['order_date_time'].dt.hour\n",
    "customer_support_df['issue_reported_hour_of_day'] = customer_support_df['Issue_reported at'].dt.hour\n",
    "customer_support_df['order_day_of_week'] = customer_support_df[\n",
    "    'order_date_time'].dt.dayofweek  # Extract day of the week (0=Monday, 6=Sunday)\n",
    "customer_support_df['issue_reported_day_of_week'] = customer_support_df['Issue_reported at'].dt.dayofweek\n",
    "customer_support_df['elapsed_days_to_survey'] = (customer_support_df['Survey_response_Date'] - customer_support_df[\n",
    "    'order_date_time']).dt.total_seconds() / (\n",
    "                                                            60 * 60 * 24)  # Calculate elapsed time from order to survey response (in days)\n",
    "\n",
    "print(\"DataFrame Information:\")\n",
    "print(customer_support_df.info())\n",
    "print(\"\\nDescriptive Statistics:\")\n",
    "print(customer_support_df.describe())\n",
    "print(\"\\nFirst 5 Rows of the DataFrame:\")\n",
    "print(customer_support_df.head())\n",
    "print(\"\\nCount of Null Values in Each Column:\")\n",
    "print(customer_support_df.isnull().sum())\n",
    "num_rows_no_nulls = customer_support_df.dropna().shape[0]\n",
    "print(f\"Number of rows with no null values: {num_rows_no_nulls}\")\n",
    "total_rows = customer_support_df.shape[0]\n",
    "print(f\"Total number of rows: {total_rows}\")\n",
    "conn.close()\n"
   ]
  },
  {
   "cell_type": "markdown",
   "metadata": {},
   "source": [
    "### Dropping the columns with high null values"
   ]
  },
  {
   "cell_type": "code",
   "execution_count": 8,
   "metadata": {
    "colab": {
     "base_uri": "https://localhost:8080/"
    },
    "id": "YmrSLN3Sl99w",
    "outputId": "3ad93571-9df8-4afd-ed44-02ca03f9e733"
   },
   "outputs": [
    {
     "name": "stdout",
     "output_type": "stream",
     "text": [
      "Remaining columns and the number of null values in each:\n",
      "Unique id                         0\n",
      "channel_name                      0\n",
      "category                          0\n",
      "Sub-category                      0\n",
      "Customer_Remarks              57165\n",
      "Issue_reported at                 0\n",
      "issue_responded                   0\n",
      "Survey_response_Date              0\n",
      "Agent_name                        0\n",
      "Supervisor                        0\n",
      "Manager                           0\n",
      "Tenure Bucket                     0\n",
      "Agent Shift                       0\n",
      "CSAT_Score                        0\n",
      "response_time_minutes             0\n",
      "issue_reported_hour_of_day        0\n",
      "issue_reported_day_of_week        0\n",
      "dtype: int64\n",
      "Number of rows with no null values: 28742\n"
     ]
    }
   ],
   "source": [
    "customer_support_df.drop(columns=[\n",
    "    'order_date_time',\n",
    "    'order_hour_of_day',\n",
    "    'order_day_of_week',\n",
    "    'elapsed_days_to_survey',\n",
    "    'Order_id',\n",
    "    'Customer_City',\n",
    "    'Item_price',\n",
    "    'connected_handling_time',\n",
    "    'Product_category'\n",
    "], inplace=True)\n",
    "\n",
    "# Print the remaining columns and the count of null values in each\n",
    "print(\"Remaining columns and the number of null values in each:\")\n",
    "print(customer_support_df.isnull().sum())\n",
    "\n",
    "num_rows_no_nulls = customer_support_df.dropna().shape[0]\n",
    "print(f\"Number of rows with no null values: {num_rows_no_nulls}\")"
   ]
  },
  {
   "cell_type": "markdown",
   "metadata": {},
   "source": [
    "### Filtering the DF to include only rows with no missing value and creating a new db"
   ]
  },
  {
   "cell_type": "code",
   "execution_count": 9,
   "metadata": {
    "colab": {
     "base_uri": "https://localhost:8080/"
    },
    "id": "c4JKII8Xvcix",
    "outputId": "1a70ca0b-57b9-4d03-d040-bb4410970b32"
   },
   "outputs": [],
   "source": [
    "complete_cases_df = customer_support_df.dropna()\n",
    "conn = sqlite3.connect('cleaned_customer_support.db')\n",
    "complete_cases_df.to_sql('cleaned_customer_support', conn, if_exists='replace', index=False)\n",
    "conn.close()\n",
    "\n"
   ]
  },
  {
   "cell_type": "code",
   "execution_count": 10,
   "metadata": {
    "colab": {
     "base_uri": "https://localhost:8080/"
    },
    "id": "CohCI-WVv2gA",
    "outputId": "e2484794-f6c2-4d59-e8ec-ae4909da5a2b"
   },
   "outputs": [
    {
     "name": "stdout",
     "output_type": "stream",
     "text": [
      "Basic statistics of the cleaned database:\n",
      "         CSAT_Score  response_time_minutes  issue_reported_hour_of_day  \\\n",
      "count  28742.000000           28742.000000                28742.000000   \n",
      "mean       4.073238             130.186835                   14.456718   \n",
      "std        1.560075             593.501462                    5.066173   \n",
      "min        1.000000           -1437.000000                    0.000000   \n",
      "25%        4.000000               2.000000                   11.000000   \n",
      "50%        5.000000               5.000000                   15.000000   \n",
      "75%        5.000000              29.000000                   19.000000   \n",
      "max        5.000000            5742.000000                   23.000000   \n",
      "\n",
      "       issue_reported_day_of_week  \n",
      "count                28742.000000  \n",
      "mean                     2.835050  \n",
      "std                      1.958646  \n",
      "min                      0.000000  \n",
      "25%                      1.000000  \n",
      "50%                      3.000000  \n",
      "75%                      5.000000  \n",
      "max                      6.000000  \n",
      "\n",
      "Information about the DataFrame:\n",
      "<class 'pandas.core.frame.DataFrame'>\n",
      "RangeIndex: 28742 entries, 0 to 28741\n",
      "Data columns (total 17 columns):\n",
      " #   Column                      Non-Null Count  Dtype  \n",
      "---  ------                      --------------  -----  \n",
      " 0   Unique id                   28742 non-null  object \n",
      " 1   channel_name                28742 non-null  object \n",
      " 2   category                    28742 non-null  object \n",
      " 3   Sub-category                28742 non-null  object \n",
      " 4   Customer_Remarks            28742 non-null  object \n",
      " 5   Issue_reported at           28742 non-null  object \n",
      " 6   issue_responded             28742 non-null  object \n",
      " 7   Survey_response_Date        28742 non-null  object \n",
      " 8   Agent_name                  28742 non-null  object \n",
      " 9   Supervisor                  28742 non-null  object \n",
      " 10  Manager                     28742 non-null  object \n",
      " 11  Tenure Bucket               28742 non-null  object \n",
      " 12  Agent Shift                 28742 non-null  object \n",
      " 13  CSAT_Score                  28742 non-null  int64  \n",
      " 14  response_time_minutes       28742 non-null  float64\n",
      " 15  issue_reported_hour_of_day  28742 non-null  int64  \n",
      " 16  issue_reported_day_of_week  28742 non-null  int64  \n",
      "dtypes: float64(1), int64(3), object(13)\n",
      "memory usage: 3.7+ MB\n"
     ]
    }
   ],
   "source": [
    "conn = sqlite3.connect('cleaned_customer_support.db')\n",
    "cleaned_df = pd.read_sql_query(\"SELECT * FROM cleaned_customer_support\", conn)\n",
    "print(\"Basic statistics of the cleaned database:\")\n",
    "print(cleaned_df.describe())\n",
    "print(\"\\nInformation about the DataFrame:\")\n",
    "cleaned_df.info()\n",
    "conn.close()"
   ]
  },
  {
   "cell_type": "markdown",
   "metadata": {},
   "source": [
    "### Evaluating the sentiment score from the customer remarks column and adding it to the db"
   ]
  },
  {
   "cell_type": "code",
   "execution_count": 11,
   "metadata": {},
   "outputs": [
    {
     "name": "stdout",
     "output_type": "stream",
     "text": [
      "                                     Customer_Remarks  sentiment_score\n",
      "0                                           Very good         0.910000\n",
      "1   Shopzilla app and it's all coustomer care serv...         0.910000\n",
      "2                                            Very bad        -0.910000\n",
      "3                                          Something          0.000000\n",
      "4                                            All good         0.700000\n",
      "5                                               Good          0.700000\n",
      "6                                            Godd job         0.000000\n",
      "7                 Issue not resolved pathetic service        -1.000000\n",
      "8                                          Excellent          1.000000\n",
      "9                                          Very good          0.910000\n",
      "10              Give proper guidance to the customer          0.000000\n",
      "11  Please highlight if the products cannot be ret...         0.000000\n",
      "12                                  3000 rupees loss          0.000000\n",
      "13  Please don't sale any destroy product or cheep...         0.150000\n",
      "14  I am very disappointed with Shopzilla.The issu...        -0.405000\n",
      "15                                       No comments          0.000000\n",
      "16                                          good ????         0.700000\n",
      "17              customer service number plz available         0.400000\n",
      "18                                               Good         0.700000\n",
      "19                                        Respectful          0.500000\n",
      "20                                     Very nice good         0.740000\n",
      "21  Even the guarantee period also you have to con...         0.000000\n",
      "22                                            Thanks          0.200000\n",
      "23                Try to deliver the product on time          0.000000\n",
      "24  Nice conversation good I will give rating for ...         0.650000\n",
      "25                              Keep it up Shopzilla          0.000000\n",
      "26                                     I am so happy          0.800000\n",
      "27                                     Very bad agent        -0.910000\n",
      "28                                                 Ok         0.500000\n",
      "29                   Should take action fast..thank u         0.100000\n",
      "30                                          Good talk         0.700000\n",
      "31  The way she talked with me is quite appropriat...         0.566667\n",
      "32  Please pack the products which actually custom...         0.000000\n",
      "33                                            Thanks          0.200000\n",
      "34                                               ????         0.000000\n",
      "35                             Mr   was very helpful          0.200000\n",
      "36  Thank you so much sir for solving my issue . B...        -0.200000\n",
      "37                                              Good          0.700000\n",
      "38                                          Thankyou          0.000000\n",
      "39  I selected for English language preference but...         0.000000\n",
      "40                                              Nice          0.600000\n",
      "41  Please don't give the chance of local shop/ co...        -0.500000\n",
      "42      Thank you   for your valuable time & support          0.000000\n",
      "43                                         Good night         0.700000\n",
      "44                                                 No         0.000000\n",
      "45                                 Thank you so much          0.200000\n",
      "46                                              ?? no         0.000000\n",
      "47  Please provide customer support in regional la...         0.000000\n",
      "48                       Delete in Shopzilla account          0.000000\n",
      "49                                  Next time better          0.250000\n",
      "Index(['Unique id', 'channel_name', 'category', 'Sub-category',\n",
      "       'Customer_Remarks', 'Issue_reported at', 'issue_responded',\n",
      "       'Survey_response_Date', 'Agent_name', 'Supervisor', 'Manager',\n",
      "       'Tenure Bucket', 'Agent Shift', 'CSAT_Score', 'response_time_minutes',\n",
      "       'issue_reported_hour_of_day', 'issue_reported_day_of_week',\n",
      "       'sentiment_score'],\n",
      "      dtype='object')\n"
     ]
    }
   ],
   "source": [
    "conn = sqlite3.connect('cleaned_customer_support.db')\n",
    "\n",
    "\n",
    "def calculate_sentiment(text):\n",
    "    try:\n",
    "        return TextBlob(str(text)).sentiment.polarity\n",
    "    except:\n",
    "        return None\n",
    "\n",
    "\n",
    "cleaned_df['sentiment_score'] = cleaned_df['Customer_Remarks'].apply(calculate_sentiment)\n",
    "print(cleaned_df[['Customer_Remarks', 'sentiment_score']].head(50))\n",
    "cleaned_df.to_sql('cleaned_customer_support', conn, if_exists='replace', index=False)\n",
    "\n",
    "print(cleaned_df.columns)\n",
    "\n",
    "conn.close()\n"
   ]
  },
  {
   "cell_type": "markdown",
   "metadata": {},
   "source": [
    "### Trying out some other sentiment score methods"
   ]
  },
  {
   "cell_type": "code",
   "execution_count": 12,
   "metadata": {},
   "outputs": [
    {
     "name": "stderr",
     "output_type": "stream",
     "text": [
      "Some weights of BertForSequenceClassification were not initialized from the model checkpoint at bert-base-uncased and are newly initialized: ['classifier.bias', 'classifier.weight']\n",
      "You should probably TRAIN this model on a down-stream task to be able to use it for predictions and inference.\n"
     ]
    },
    {
     "name": "stdout",
     "output_type": "stream",
     "text": [
      "                                    Customer_Remarks  bert_sentiment\n",
      "0                                          Very good        0.482368\n",
      "1  Shopzilla app and it's all coustomer care serv...        0.511377\n",
      "2                                           Very bad        0.470942\n",
      "3                                         Something         0.468955\n",
      "4                                           All good        0.476021\n",
      "WARNING:tensorflow:From e:\\Concordia\\471-Project\\.venv\\Lib\\site-packages\\tf_keras\\src\\losses.py:2976: The name tf.losses.sparse_softmax_cross_entropy is deprecated. Please use tf.compat.v1.losses.sparse_softmax_cross_entropy instead.\n",
      "\n",
      "                                    Customer_Remarks  bert_sentiment\n",
      "0                                          Very good        0.482368\n",
      "1  Shopzilla app and it's all coustomer care serv...        0.511377\n",
      "2                                           Very bad        0.470942\n",
      "3                                         Something         0.468955\n",
      "4                                           All good        0.476021\n",
      "Index(['Unique id', 'channel_name', 'category', 'Sub-category',\n",
      "       'Customer_Remarks', 'Issue_reported at', 'issue_responded',\n",
      "       'Survey_response_Date', 'Agent_name', 'Supervisor', 'Manager',\n",
      "       'Tenure Bucket', 'Agent Shift', 'CSAT_Score', 'response_time_minutes',\n",
      "       'issue_reported_hour_of_day', 'issue_reported_day_of_week',\n",
      "       'sentiment_score'],\n",
      "      dtype='object')\n"
     ]
    }
   ],
   "source": [
    "# trying without specific model\n",
    "model_name = \"bert-base-uncased\"\n",
    "tokenizer = BertTokenizer.from_pretrained(model_name)\n",
    "model = BertForSequenceClassification.from_pretrained(model_name)\n",
    "\n",
    "\n",
    "def calculate_bert_sentiment(text):\n",
    "    if pd.isna(text):\n",
    "        return 0  # Assume neutral sentiment for missing remarks\n",
    "    encoded_input = tokenizer(text, return_tensors='pt', truncation=True, max_length=512, padding=True)\n",
    "    with torch.no_grad():\n",
    "        outputs = model(**encoded_input)\n",
    "    scores = torch.nn.functional.softmax(outputs.logits, dim=-1)\n",
    "    # Assuming that the first class is negative and the second is positive\n",
    "    positive_score = scores[:, 1].item()\n",
    "    return positive_score\n",
    "\n",
    "\n",
    "cleaned_df['bert_sentiment'] = cleaned_df['Customer_Remarks'].apply(calculate_bert_sentiment)\n",
    "\n",
    "# Display the first few entries of the new sentiment scores\n",
    "print(cleaned_df[['Customer_Remarks', 'bert_sentiment']].head())\n",
    "\n",
    "# This time, trying a model that's been fine-tuned for sentiment analysis\n",
    "model_name = \"distilbert-base-uncased-finetuned-sst-2-english\"\n",
    "sentiment_pipeline = pipeline(\"sentiment-analysis\", model=model_name)\n",
    "\n",
    "\n",
    "def calculate_bert_sentiment(text):\n",
    "    if pd.isna(text):\n",
    "        return None  # or 0 for neutral sentiment\n",
    "    result = sentiment_pipeline(text[:512])\n",
    "    return result[0]['score'] if result[0]['label'] == 'POSITIVE' else -result[0]['score']\n",
    "\n",
    "\n",
    "# Apply the function to the Customer_Remarks column\n",
    "cleaned_df['bert_sentiment2'] = cleaned_df['Customer_Remarks'].apply(calculate_bert_sentiment)\n",
    "\n",
    "# Show the first few entries of the new sentiment scores\n",
    "print(cleaned_df[['Customer_Remarks', 'bert_sentiment']].head())\n",
    "# Drop the 'bert_sentiment' column since it was not a succes for both models\n",
    "cleaned_df.drop(columns=['bert_sentiment'], inplace=True)\n",
    "cleaned_df.drop(columns=['bert_sentiment2'], inplace=True)\n",
    "# Display the DataFrame to confirm the column is dropped\n",
    "print(cleaned_df.columns)"
   ]
  },
  {
   "cell_type": "markdown",
   "metadata": {
    "collapsed": false
   },
   "source": [
    "# Balancing database CSAT score distributions"
   ]
  },
  {
   "cell_type": "code",
   "execution_count": 20,
   "metadata": {
    "collapsed": false
   },
   "outputs": [
    {
     "name": "stdout",
     "output_type": "stream",
     "text": [
      "Desired Ratios for Oversampling:\n",
      "Class 2: 328\n",
      "Class 3: 559\n",
      "Class 4: 1736\n",
      "Desired Ratios for Undersampling:\n",
      "Class 1: 1337\n",
      "Class 5: 4263\n",
      "Batch Number: 1\n",
      "Batch Number: 2\n",
      "Batch Number: 3\n"
     ]
    },
    {
     "name": "stderr",
     "output_type": "stream",
     "text": [
      "C:\\Users\\matth\\AppData\\Local\\Temp\\ipykernel_27804\\449603437.py:55: PerformanceWarning: DataFrame is highly fragmented.  This is usually the result of calling `frame.insert` many times, which has poor performance.  Consider joining all columns at once using pd.concat(axis=1) instead. To get a de-fragmented frame, use `newframe = frame.copy()`\n",
      "  balanced_data['CSAT_Score'] = pd.concat([pd.Series(y_resampled) for _, y_resampled in resampled_batches],\n"
     ]
    },
    {
     "name": "stdout",
     "output_type": "stream",
     "text": [
      "Balanced dataset saved to 'balance_customer_support.db'.\n"
     ]
    }
   ],
   "source": [
    "# Function to calculate sentiment score\n",
    "def calculate_sentiment(text):\n",
    "    try:\n",
    "        return TextBlob(str(text)).sentiment.polarity\n",
    "    except:\n",
    "        return None\n",
    "\n",
    "def balance_data_with_resampling(ratio_over, ratio_under, output_db_filename):\n",
    "    conn = sqlite3.connect('cleaned_customer_support.db')\n",
    "    data = pd.read_sql_query(\"SELECT * FROM cleaned_customer_support\", conn)\n",
    "    conn.close()\n",
    "\n",
    "    # Drop sentiment_score before resampling, as it doesn't make sense for synthetic data\n",
    "    if 'sentiment_score' in data.columns:\n",
    "        data = data.drop(columns=['sentiment_score'])\n",
    "\n",
    "    # Identify non-numerical columns\n",
    "    non_numerical_cols = data.select_dtypes(include=['object']).columns\n",
    "    original_to_encoded_cols = {}\n",
    "    for col in non_numerical_cols:\n",
    "        encoded_cols = [f\"{col}_{value}\" for value in data[col].unique()]\n",
    "        original_to_encoded_cols[col] = encoded_cols\n",
    "    # Apply one-hot encoding to non-numerical columns\n",
    "    data = pd.get_dummies(data, columns=non_numerical_cols)\n",
    "    X = data.drop('CSAT_Score', axis=1)\n",
    "    y = data['CSAT_Score'].astype(int)\n",
    "\n",
    "    # Split the data into smaller batches\n",
    "    batch_size = 10000\n",
    "    X_batches = [X[i:i + batch_size] for i in range(0, len(X), batch_size)]\n",
    "    y_batches = [y[i:i + batch_size] for i in range(0, len(y), batch_size)]\n",
    " \n",
    "    over = SMOTE(sampling_strategy=ratio_over, random_state=42)\n",
    "    under = RandomUnderSampler(sampling_strategy=ratio_under, random_state=42)\n",
    "    resample_pipeline = Pipeline(steps=[('o', over), ('u', under)])\n",
    "\n",
    "    print(\"Desired Ratios for Oversampling:\")\n",
    "    for class_label, ratio in desired_ratio.items():\n",
    "        print(f\"Class {class_label}: {ratio}\")\n",
    "    print(\"Desired Ratios for Undersampling:\")\n",
    "    for class_label, ratio in undersampling_ratio.items():\n",
    "        print(f\"Class {class_label}: {ratio}\")\n",
    "    # Adding the batches one by one \n",
    "    batch_num = 0\n",
    "    resampled_batches = []\n",
    "    for X_batch, y_batch in zip(X_batches, y_batches):\n",
    "        batch_num += 1\n",
    "        print(\"Batch Number:\", batch_num)\n",
    "        X_resampled, y_resampled = resample_pipeline.fit_resample(X_batch, y_batch)\n",
    "        resampled_batches.append((X_resampled, y_resampled))\n",
    "        del X_resampled, y_resampled\n",
    "        gc.collect()\n",
    "\n",
    "    balanced_data = pd.concat([pd.DataFrame(X_resampled, columns=X.columns) for X_resampled, _ in resampled_batches])\n",
    "    balanced_data['CSAT_Score'] = pd.concat([pd.Series(y_resampled) for _, y_resampled in resampled_batches],\n",
    "                                            ignore_index=True)\n",
    "    #Reverting to original values\n",
    "    reverted_categorical_cols = pd.DataFrame()\n",
    "    for col in non_numerical_cols:\n",
    "        encoded_cols = [c for c in balanced_data.columns if c.startswith(col + '_')]\n",
    "        reverted_col = balanced_data[encoded_cols].idxmax(axis=1).apply(lambda x: x.rsplit('_', 1)[-1])\n",
    "        reverted_categorical_cols[col] = reverted_col\n",
    "\n",
    "    balanced_data = balanced_data.drop(columns=sum(original_to_encoded_cols.values(), []))\n",
    "    balanced_data = pd.concat([balanced_data, reverted_categorical_cols], axis=1)\n",
    "    balanced_data = balanced_data[balanced_data['response_time_minutes'] >= 0]\n",
    "    balanced_data['sentiment_score'] = balanced_data['Customer_Remarks'].apply(calculate_sentiment)\n",
    "    conn = sqlite3.connect(output_db_filename)\n",
    "    balanced_data.to_sql('balanced_customer_support', conn, if_exists='replace', index=False)\n",
    "    conn.close()\n",
    "\n",
    "    print(\"Balanced dataset saved to 'balance_customer_support.db'.\")\n",
    "    \n",
    "num_batches =3\n",
    "original_counts = {\n",
    "    1: 5348,\n",
    "    2: 394,\n",
    "    3: 730,\n",
    "    4: 2605,\n",
    "    5: 19679\n",
    "}\n",
    "desired_ratio = {\n",
    "    2: int(original_counts[2] / 3 * 2.5),\n",
    "    3: int(original_counts[3] / 3 * 2.3),\n",
    "    4: int(original_counts[4] / 3 * 2)\n",
    "}\n",
    "undersampling_ratio = {\n",
    "    1: int(original_counts[1] / 3 * 0.75),\n",
    "    5: int(original_counts[5] / 3 * 0.65)\n",
    "}\n",
    "\n",
    "balance_data_with_resampling(ratio_over=desired_ratio, ratio_under=undersampling_ratio, output_db_filename='balance_customer_support.db')\n"
   ]
  },
  {
   "cell_type": "markdown",
   "metadata": {
    "collapsed": false
   },
   "source": [
    "#### Final CSAT score data distribution"
   ]
  },
  {
   "cell_type": "code",
   "execution_count": 21,
   "metadata": {
    "collapsed": false
   },
   "outputs": [
    {
     "name": "stdout",
     "output_type": "stream",
     "text": [
      "   CSAT_Score  count\n",
      "0           1   5828\n",
      "1           2   1465\n",
      "2           3   2580\n",
      "3           4   5385\n",
      "4           5   8420\n"
     ]
    }
   ],
   "source": [
    "conn = sqlite3.connect('balance_customer_support.db')\n",
    "query = \"SELECT CSAT_Score, COUNT(*) as count FROM balanced_customer_support GROUP BY CSAT_Score\"\n",
    "csat_distribution = pd.read_sql_query(query, conn)\n",
    "conn.close()\n",
    "print(csat_distribution)"
   ]
  },
  {
   "cell_type": "markdown",
   "metadata": {
    "collapsed": false
   },
   "source": [
    "# Random Forest and MLP Classification Models"
   ]
  },
  {
   "cell_type": "markdown",
   "metadata": {
    "collapsed": false
   },
   "source": [
    "#### Load the prepared data from the SQLite database."
   ]
  },
  {
   "cell_type": "code",
   "execution_count": 51,
   "metadata": {
    "ExecuteTime": {
     "end_time": "2024-03-30T22:08:18.551942100Z",
     "start_time": "2024-03-30T22:08:18.254602600Z"
    },
    "collapsed": false
   },
   "outputs": [],
   "source": [
    "conn = sqlite3.connect('balance_customer_support.db')\n",
    "data = pd.read_sql_query(\"SELECT * FROM balanced_customer_support\", conn)\n",
    "conn.close()"
   ]
  },
  {
   "cell_type": "markdown",
   "metadata": {
    "collapsed": false
   },
   "source": [
    "#### Define target variable `y`."
   ]
  },
  {
   "cell_type": "code",
   "execution_count": 52,
   "metadata": {
    "ExecuteTime": {
     "end_time": "2024-03-30T22:08:18.572020400Z",
     "start_time": "2024-03-30T22:08:18.552943700Z"
    },
    "collapsed": false
   },
   "outputs": [],
   "source": [
    "y = data['CSAT_Score'].astype('category')  # Ensuring 'y' is a categorical type for stratification"
   ]
  },
  {
   "cell_type": "markdown",
   "metadata": {
    "collapsed": false
   },
   "source": [
    "#### Prepare the data using one-hot encoder to convert categorical features into numerical features and combine them."
   ]
  },
  {
   "cell_type": "code",
   "execution_count": 53,
   "metadata": {
    "ExecuteTime": {
     "end_time": "2024-03-30T22:08:18.657886Z",
     "start_time": "2024-03-30T22:08:18.559023400Z"
    },
    "collapsed": false
   },
   "outputs": [],
   "source": [
    "# OneHotEncode categorical features\n",
    "encoder = OneHotEncoder()\n",
    "encoded_features = encoder.fit_transform(\n",
    "    data[['Agent Shift', 'Tenure Bucket', 'channel_name', 'category', 'Sub-category', 'Supervisor', 'Manager']])\n",
    "encoded_feature_names = encoder.get_feature_names_out(\n",
    "    ['Agent Shift', 'Tenure Bucket', 'channel_name', 'category', 'Sub-category', 'Supervisor', 'Manager'])\n",
    "\n",
    "# Combine numerical and OneHotEncoded categorical features\n",
    "X = pd.concat(\n",
    "    [data[['issue_reported_hour_of_day', 'response_time_minutes', 'issue_reported_day_of_week', 'sentiment_score']],\n",
    "     pd.DataFrame(encoded_features.toarray(), columns=encoded_feature_names)], axis=1)"
   ]
  },
  {
   "cell_type": "markdown",
   "metadata": {
    "collapsed": false
   },
   "source": [
    "#### Split the data into training and testing sets with stratification"
   ]
  },
  {
   "cell_type": "code",
   "execution_count": 54,
   "metadata": {
    "ExecuteTime": {
     "end_time": "2024-03-30T22:08:18.686734Z",
     "start_time": "2024-03-30T22:08:18.658882Z"
    },
    "collapsed": false
   },
   "outputs": [],
   "source": [
    "X_train, X_test, y_train, y_test = train_test_split(X, y, test_size=0.2, random_state=42, stratify=y)"
   ]
  },
  {
   "cell_type": "markdown",
   "metadata": {
    "collapsed": false
   },
   "source": [
    "## Random Forest"
   ]
  },
  {
   "cell_type": "markdown",
   "metadata": {
    "collapsed": false
   },
   "source": [
    "#### Initialize hyperparameters and train Random Forest classifier"
   ]
  },
  {
   "cell_type": "code",
   "execution_count": 55,
   "metadata": {
    "ExecuteTime": {
     "end_time": "2024-03-30T21:58:15.732882500Z",
     "start_time": "2024-03-30T21:53:36.221829400Z"
    },
    "collapsed": false
   },
   "outputs": [],
   "source": [
    "# Grid search for hyperparameter tuning\n",
    "param_grid = {\n",
    "    'n_estimators': [100, 200, 300],\n",
    "    'max_depth': [10, 20, 30],\n",
    "    'min_samples_split': [2, 5, 10],\n",
    "    'min_samples_leaf': [1, 2, 4]\n",
    "}\n",
    "grid_search = GridSearchCV(RandomForestClassifier(random_state=42), param_grid, cv=5, scoring='accuracy',n_jobs=-1).fit(X_train, y_train)"
   ]
  },
  {
   "cell_type": "markdown",
   "metadata": {
    "collapsed": false
   },
   "source": [
    "#### Get the best model from grid search then make predictions."
   ]
  },
  {
   "cell_type": "code",
   "execution_count": 56,
   "metadata": {
    "ExecuteTime": {
     "end_time": "2024-03-30T22:08:25.680128800Z",
     "start_time": "2024-03-30T22:08:25.588998900Z"
    },
    "collapsed": false
   },
   "outputs": [],
   "source": [
    "best_params = grid_search.best_params_\n",
    "best_model = grid_search.best_estimator_\n",
    "\n",
    "y_pred = best_model.predict(X_test)"
   ]
  },
  {
   "cell_type": "markdown",
   "metadata": {
    "collapsed": false
   },
   "source": [
    "#### Plot confusion matrix"
   ]
  },
  {
   "cell_type": "code",
   "execution_count": 57,
   "metadata": {
    "ExecuteTime": {
     "end_time": "2024-03-30T22:08:27.672313800Z",
     "start_time": "2024-03-30T22:08:27.423316100Z"
    },
    "collapsed": false
   },
   "outputs": [
    {
     "data": {
      "image/png": "[encoded data removed]",
      "text/plain": [
       "<Figure size 1000x800 with 2 Axes>"
      ]
     },
     "metadata": {},
     "output_type": "display_data"
    }
   ],
   "source": [
    "def plot_confusion_matrix(y_true, y_pred, class_labels=None):\n",
    "    conf_matrix = confusion_matrix(y_true, y_pred, labels=class_labels)\n",
    "\n",
    "    plt.figure(figsize=(10, 8))\n",
    "    sns.heatmap(conf_matrix, annot=True, fmt='g', cmap='Blues', xticklabels=class_labels, yticklabels=class_labels)\n",
    "    plt.xlabel('Predicted labels')\n",
    "    plt.ylabel('True labels')\n",
    "    plt.title('Confusion Matrix')\n",
    "    plt.show()\n",
    "class_labels = [1, 2, 3, 4, 5]\n",
    "plot_confusion_matrix(y_test, y_pred, class_labels)"
   ]
  },
  {
   "cell_type": "markdown",
   "metadata": {
    "collapsed": false
   },
   "source": [
    "#### Display the best Random Forest model's classification report"
   ]
  },
  {
   "cell_type": "code",
   "execution_count": 58,
   "metadata": {
    "ExecuteTime": {
     "end_time": "2024-03-30T22:08:31.092933700Z",
     "start_time": "2024-03-30T22:08:31.060454600Z"
    },
    "collapsed": false
   },
   "outputs": [
    {
     "name": "stdout",
     "output_type": "stream",
     "text": [
      "              precision    recall  f1-score   support\n",
      "\n",
      "           1       0.39      0.26      0.31      1166\n",
      "           2       0.12      0.01      0.02       293\n",
      "           3       0.62      0.17      0.27       516\n",
      "           4       0.47      0.40      0.43      1077\n",
      "           5       0.45      0.76      0.56      1684\n",
      "\n",
      "    accuracy                           0.44      4736\n",
      "   macro avg       0.41      0.32      0.32      4736\n",
      "weighted avg       0.44      0.44      0.41      4736\n",
      "\n"
     ]
    }
   ],
   "source": [
    "print(classification_report(y_test, y_pred))"
   ]
  },
  {
   "cell_type": "code",
   "execution_count": 59,
   "metadata": {},
   "outputs": [
    {
     "name": "stdout",
     "output_type": "stream",
     "text": [
      "Accuracy for class 1: 0.26\n",
      "Accuracy for class 2: 0.01\n",
      "Accuracy for class 3: 0.17\n",
      "Accuracy for class 4: 0.40\n",
      "Accuracy for class 5: 0.76\n",
      "Overall accuracy: 0.44\n"
     ]
    }
   ],
   "source": [
    "# Print accuracy for each class\n",
    "cm = confusion_matrix(y_test, y_pred)\n",
    "correct_classifications = cm.diagonal()\n",
    "support = cm.sum(axis=1)\n",
    "class_accuracies = correct_classifications / support\n",
    "\n",
    "for i, accuracy in enumerate(class_accuracies, start=1):\n",
    "    print(f\"Accuracy for class {i}: {accuracy:.2f}\")\n",
    "\n",
    "overall_accuracy = accuracy_score(y_test, y_pred)\n",
    "print(f\"Overall accuracy: {overall_accuracy:.2f}\")"
   ]
  },
  {
   "cell_type": "markdown",
   "metadata": {
    "collapsed": false
   },
   "source": [
    "#### Display top 5 most important features for best Random Forest model for the balanced dataset"
   ]
  },
  {
   "cell_type": "code",
   "execution_count": 13,
   "metadata": {
    "ExecuteTime": {
     "end_time": "2024-03-30T22:08:33.440164Z",
     "start_time": "2024-03-30T22:08:33.406842300Z"
    },
    "collapsed": false
   },
   "outputs": [
    {
     "name": "stdout",
     "output_type": "stream",
     "text": [
      "\n",
      "Top 5 Important Features for the Best Model:\n",
      "\n",
      "response_time_minutes: 0.1124\n",
      "issue_reported_hour_of_day: 0.0999\n",
      "issue_reported_day_of_week: 0.0979\n",
      "sentiment_score: 0.0887\n",
      "Sub-category_Reverse Pickup Enquiry: 0.0147\n"
     ]
    }
   ],
   "source": [
    "feature_importances = best_model.feature_importances_\n",
    "sorted_indices = np.argsort(feature_importances)[::-1]\n",
    "top_features = [X.columns[i] for i in sorted_indices[:5]]\n",
    "top_importances = feature_importances[sorted_indices[:5]]\n",
    "\n",
    "print(\"\\nTop 5 Important Features for the Best Model:\\n\")\n",
    "for feature, importance in zip(top_features, top_importances):\n",
    "    print(f\"{feature}: {importance:.4f}\")"
   ]
  },
  {
   "cell_type": "markdown",
   "metadata": {
    "collapsed": false
   },
   "source": [
    "## Multi-Layered Perceptron"
   ]
  },
  {
   "cell_type": "markdown",
   "metadata": {
    "collapsed": false
   },
   "source": [
    "#### Define and train MLP classifier using set hyperparams."
   ]
  },
  {
   "cell_type": "code",
   "execution_count": 60,
   "metadata": {
    "ExecuteTime": {
     "start_time": "2024-03-30T22:25:31.354535300Z"
    },
    "collapsed": false,
    "is_executing": true
   },
   "outputs": [
    {
     "data": {
      "text/html": [
       "<style>#sk-container-id-4 {\n",
       "  /* Definition of color scheme common for light and dark mode */\n",
       "  --sklearn-color-text: black;\n",
       "  --sklearn-color-line: gray;\n",
       "  /* Definition of color scheme for unfitted estimators */\n",
       "  --sklearn-color-unfitted-level-0: #fff5e6;\n",
       "  --sklearn-color-unfitted-level-1: #f6e4d2;\n",
       "  --sklearn-color-unfitted-level-2: #ffe0b3;\n",
       "  --sklearn-color-unfitted-level-3: chocolate;\n",
       "  /* Definition of color scheme for fitted estimators */\n",
       "  --sklearn-color-fitted-level-0: #f0f8ff;\n",
       "  --sklearn-color-fitted-level-1: #d4ebff;\n",
       "  --sklearn-color-fitted-level-2: #b3dbfd;\n",
       "  --sklearn-color-fitted-level-3: cornflowerblue;\n",
       "\n",
       "  /* Specific color for light theme */\n",
       "  --sklearn-color-text-on-default-background: var(--sg-text-color, var(--theme-code-foreground, var(--jp-content-font-color1, black)));\n",
       "  --sklearn-color-background: var(--sg-background-color, var(--theme-background, var(--jp-layout-color0, white)));\n",
       "  --sklearn-color-border-box: var(--sg-text-color, var(--theme-code-foreground, var(--jp-content-font-color1, black)));\n",
       "  --sklearn-color-icon: #696969;\n",
       "\n",
       "  @media (prefers-color-scheme: dark) {\n",
       "    /* Redefinition of color scheme for dark theme */\n",
       "    --sklearn-color-text-on-default-background: var(--sg-text-color, var(--theme-code-foreground, var(--jp-content-font-color1, white)));\n",
       "    --sklearn-color-background: var(--sg-background-color, var(--theme-background, var(--jp-layout-color0, #111)));\n",
       "    --sklearn-color-border-box: var(--sg-text-color, var(--theme-code-foreground, var(--jp-content-font-color1, white)));\n",
       "    --sklearn-color-icon: #878787;\n",
       "  }\n",
       "}\n",
       "\n",
       "#sk-container-id-4 {\n",
       "  color: var(--sklearn-color-text);\n",
       "}\n",
       "\n",
       "#sk-container-id-4 pre {\n",
       "  padding: 0;\n",
       "}\n",
       "\n",
       "#sk-container-id-4 input.sk-hidden--visually {\n",
       "  border: 0;\n",
       "  clip: rect(1px 1px 1px 1px);\n",
       "  clip: rect(1px, 1px, 1px, 1px);\n",
       "  height: 1px;\n",
       "  margin: -1px;\n",
       "  overflow: hidden;\n",
       "  padding: 0;\n",
       "  position: absolute;\n",
       "  width: 1px;\n",
       "}\n",
       "\n",
       "#sk-container-id-4 div.sk-dashed-wrapped {\n",
       "  border: 1px dashed var(--sklearn-color-line);\n",
       "  margin: 0 0.4em 0.5em 0.4em;\n",
       "  box-sizing: border-box;\n",
       "  padding-bottom: 0.4em;\n",
       "  background-color: var(--sklearn-color-background);\n",
       "}\n",
       "\n",
       "#sk-container-id-4 div.sk-container {\n",
       "  /* jupyter's `normalize.less` sets `[hidden] { display: none; }`\n",
       "     but bootstrap.min.css set `[hidden] { display: none !important; }`\n",
       "     so we also need the `!important` here to be able to override the\n",
       "     default hidden behavior on the sphinx rendered scikit-learn.org.\n",
       "     See: https://github.com/scikit-learn/scikit-learn/issues/21755 */\n",
       "  display: inline-block !important;\n",
       "  position: relative;\n",
       "}\n",
       "\n",
       "#sk-container-id-4 div.sk-text-repr-fallback {\n",
       "  display: none;\n",
       "}\n",
       "\n",
       "div.sk-parallel-item,\n",
       "div.sk-serial,\n",
       "div.sk-item {\n",
       "  /* draw centered vertical line to link estimators */\n",
       "  background-image: linear-gradient(var(--sklearn-color-text-on-default-background), var(--sklearn-color-text-on-default-background));\n",
       "  background-size: 2px 100%;\n",
       "  background-repeat: no-repeat;\n",
       "  background-position: center center;\n",
       "}\n",
       "\n",
       "/* Parallel-specific style estimator block */\n",
       "\n",
       "#sk-container-id-4 div.sk-parallel-item::after {\n",
       "  content: \"\";\n",
       "  width: 100%;\n",
       "  border-bottom: 2px solid var(--sklearn-color-text-on-default-background);\n",
       "  flex-grow: 1;\n",
       "}\n",
       "\n",
       "#sk-container-id-4 div.sk-parallel {\n",
       "  display: flex;\n",
       "  align-items: stretch;\n",
       "  justify-content: center;\n",
       "  background-color: var(--sklearn-color-background);\n",
       "  position: relative;\n",
       "}\n",
       "\n",
       "#sk-container-id-4 div.sk-parallel-item {\n",
       "  display: flex;\n",
       "  flex-direction: column;\n",
       "}\n",
       "\n",
       "#sk-container-id-4 div.sk-parallel-item:first-child::after {\n",
       "  align-self: flex-end;\n",
       "  width: 50%;\n",
       "}\n",
       "\n",
       "#sk-container-id-4 div.sk-parallel-item:last-child::after {\n",
       "  align-self: flex-start;\n",
       "  width: 50%;\n",
       "}\n",
       "\n",
       "#sk-container-id-4 div.sk-parallel-item:only-child::after {\n",
       "  width: 0;\n",
       "}\n",
       "\n",
       "/* Serial-specific style estimator block */\n",
       "\n",
       "#sk-container-id-4 div.sk-serial {\n",
       "  display: flex;\n",
       "  flex-direction: column;\n",
       "  align-items: center;\n",
       "  background-color: var(--sklearn-color-background);\n",
       "  padding-right: 1em;\n",
       "  padding-left: 1em;\n",
       "}\n",
       "\n",
       "\n",
       "/* Toggleable style: style used for estimator/Pipeline/ColumnTransformer box that is\n",
       "clickable and can be expanded/collapsed.\n",
       "- Pipeline and ColumnTransformer use this feature and define the default style\n",
       "- Estimators will overwrite some part of the style using the `sk-estimator` class\n",
       "*/\n",
       "\n",
       "/* Pipeline and ColumnTransformer style (default) */\n",
       "\n",
       "#sk-container-id-4 div.sk-toggleable {\n",
       "  /* Default theme specific background. It is overwritten whether we have a\n",
       "  specific estimator or a Pipeline/ColumnTransformer */\n",
       "  background-color: var(--sklearn-color-background);\n",
       "}\n",
       "\n",
       "/* Toggleable label */\n",
       "#sk-container-id-4 label.sk-toggleable__label {\n",
       "  cursor: pointer;\n",
       "  display: block;\n",
       "  width: 100%;\n",
       "  margin-bottom: 0;\n",
       "  padding: 0.5em;\n",
       "  box-sizing: border-box;\n",
       "  text-align: center;\n",
       "}\n",
       "\n",
       "#sk-container-id-4 label.sk-toggleable__label-arrow:before {\n",
       "  /* Arrow on the left of the label */\n",
       "  content: \"▸\";\n",
       "  float: left;\n",
       "  margin-right: 0.25em;\n",
       "  color: var(--sklearn-color-icon);\n",
       "}\n",
       "\n",
       "#sk-container-id-4 label.sk-toggleable__label-arrow:hover:before {\n",
       "  color: var(--sklearn-color-text);\n",
       "}\n",
       "\n",
       "/* Toggleable content - dropdown */\n",
       "\n",
       "#sk-container-id-4 div.sk-toggleable__content {\n",
       "  max-height: 0;\n",
       "  max-width: 0;\n",
       "  overflow: hidden;\n",
       "  text-align: left;\n",
       "  /* unfitted */\n",
       "  background-color: var(--sklearn-color-unfitted-level-0);\n",
       "}\n",
       "\n",
       "#sk-container-id-4 div.sk-toggleable__content.fitted {\n",
       "  /* fitted */\n",
       "  background-color: var(--sklearn-color-fitted-level-0);\n",
       "}\n",
       "\n",
       "#sk-container-id-4 div.sk-toggleable__content pre {\n",
       "  margin: 0.2em;\n",
       "  border-radius: 0.25em;\n",
       "  color: var(--sklearn-color-text);\n",
       "  /* unfitted */\n",
       "  background-color: var(--sklearn-color-unfitted-level-0);\n",
       "}\n",
       "\n",
       "#sk-container-id-4 div.sk-toggleable__content.fitted pre {\n",
       "  /* unfitted */\n",
       "  background-color: var(--sklearn-color-fitted-level-0);\n",
       "}\n",
       "\n",
       "#sk-container-id-4 input.sk-toggleable__control:checked~div.sk-toggleable__content {\n",
       "  /* Expand drop-down */\n",
       "  max-height: 200px;\n",
       "  max-width: 100%;\n",
       "  overflow: auto;\n",
       "}\n",
       "\n",
       "#sk-container-id-4 input.sk-toggleable__control:checked~label.sk-toggleable__label-arrow:before {\n",
       "  content: \"▾\";\n",
       "}\n",
       "\n",
       "/* Pipeline/ColumnTransformer-specific style */\n",
       "\n",
       "#sk-container-id-4 div.sk-label input.sk-toggleable__control:checked~label.sk-toggleable__label {\n",
       "  color: var(--sklearn-color-text);\n",
       "  background-color: var(--sklearn-color-unfitted-level-2);\n",
       "}\n",
       "\n",
       "#sk-container-id-4 div.sk-label.fitted input.sk-toggleable__control:checked~label.sk-toggleable__label {\n",
       "  background-color: var(--sklearn-color-fitted-level-2);\n",
       "}\n",
       "\n",
       "/* Estimator-specific style */\n",
       "\n",
       "/* Colorize estimator box */\n",
       "#sk-container-id-4 div.sk-estimator input.sk-toggleable__control:checked~label.sk-toggleable__label {\n",
       "  /* unfitted */\n",
       "  background-color: var(--sklearn-color-unfitted-level-2);\n",
       "}\n",
       "\n",
       "#sk-container-id-4 div.sk-estimator.fitted input.sk-toggleable__control:checked~label.sk-toggleable__label {\n",
       "  /* fitted */\n",
       "  background-color: var(--sklearn-color-fitted-level-2);\n",
       "}\n",
       "\n",
       "#sk-container-id-4 div.sk-label label.sk-toggleable__label,\n",
       "#sk-container-id-4 div.sk-label label {\n",
       "  /* The background is the default theme color */\n",
       "  color: var(--sklearn-color-text-on-default-background);\n",
       "}\n",
       "\n",
       "/* On hover, darken the color of the background */\n",
       "#sk-container-id-4 div.sk-label:hover label.sk-toggleable__label {\n",
       "  color: var(--sklearn-color-text);\n",
       "  background-color: var(--sklearn-color-unfitted-level-2);\n",
       "}\n",
       "\n",
       "/* Label box, darken color on hover, fitted */\n",
       "#sk-container-id-4 div.sk-label.fitted:hover label.sk-toggleable__label.fitted {\n",
       "  color: var(--sklearn-color-text);\n",
       "  background-color: var(--sklearn-color-fitted-level-2);\n",
       "}\n",
       "\n",
       "/* Estimator label */\n",
       "\n",
       "#sk-container-id-4 div.sk-label label {\n",
       "  font-family: monospace;\n",
       "  font-weight: bold;\n",
       "  display: inline-block;\n",
       "  line-height: 1.2em;\n",
       "}\n",
       "\n",
       "#sk-container-id-4 div.sk-label-container {\n",
       "  text-align: center;\n",
       "}\n",
       "\n",
       "/* Estimator-specific */\n",
       "#sk-container-id-4 div.sk-estimator {\n",
       "  font-family: monospace;\n",
       "  border: 1px dotted var(--sklearn-color-border-box);\n",
       "  border-radius: 0.25em;\n",
       "  box-sizing: border-box;\n",
       "  margin-bottom: 0.5em;\n",
       "  /* unfitted */\n",
       "  background-color: var(--sklearn-color-unfitted-level-0);\n",
       "}\n",
       "\n",
       "#sk-container-id-4 div.sk-estimator.fitted {\n",
       "  /* fitted */\n",
       "  background-color: var(--sklearn-color-fitted-level-0);\n",
       "}\n",
       "\n",
       "/* on hover */\n",
       "#sk-container-id-4 div.sk-estimator:hover {\n",
       "  /* unfitted */\n",
       "  background-color: var(--sklearn-color-unfitted-level-2);\n",
       "}\n",
       "\n",
       "#sk-container-id-4 div.sk-estimator.fitted:hover {\n",
       "  /* fitted */\n",
       "  background-color: var(--sklearn-color-fitted-level-2);\n",
       "}\n",
       "\n",
       "/* Specification for estimator info (e.g. \"i\" and \"?\") */\n",
       "\n",
       "/* Common style for \"i\" and \"?\" */\n",
       "\n",
       ".sk-estimator-doc-link,\n",
       "a:link.sk-estimator-doc-link,\n",
       "a:visited.sk-estimator-doc-link {\n",
       "  float: right;\n",
       "  font-size: smaller;\n",
       "  line-height: 1em;\n",
       "  font-family: monospace;\n",
       "  background-color: var(--sklearn-color-background);\n",
       "  border-radius: 1em;\n",
       "  height: 1em;\n",
       "  width: 1em;\n",
       "  text-decoration: none !important;\n",
       "  margin-left: 1ex;\n",
       "  /* unfitted */\n",
       "  border: var(--sklearn-color-unfitted-level-1) 1pt solid;\n",
       "  color: var(--sklearn-color-unfitted-level-1);\n",
       "}\n",
       "\n",
       ".sk-estimator-doc-link.fitted,\n",
       "a:link.sk-estimator-doc-link.fitted,\n",
       "a:visited.sk-estimator-doc-link.fitted {\n",
       "  /* fitted */\n",
       "  border: var(--sklearn-color-fitted-level-1) 1pt solid;\n",
       "  color: var(--sklearn-color-fitted-level-1);\n",
       "}\n",
       "\n",
       "/* On hover */\n",
       "div.sk-estimator:hover .sk-estimator-doc-link:hover,\n",
       ".sk-estimator-doc-link:hover,\n",
       "div.sk-label-container:hover .sk-estimator-doc-link:hover,\n",
       ".sk-estimator-doc-link:hover {\n",
       "  /* unfitted */\n",
       "  background-color: var(--sklearn-color-unfitted-level-3);\n",
       "  color: var(--sklearn-color-background);\n",
       "  text-decoration: none;\n",
       "}\n",
       "\n",
       "div.sk-estimator.fitted:hover .sk-estimator-doc-link.fitted:hover,\n",
       ".sk-estimator-doc-link.fitted:hover,\n",
       "div.sk-label-container:hover .sk-estimator-doc-link.fitted:hover,\n",
       ".sk-estimator-doc-link.fitted:hover {\n",
       "  /* fitted */\n",
       "  background-color: var(--sklearn-color-fitted-level-3);\n",
       "  color: var(--sklearn-color-background);\n",
       "  text-decoration: none;\n",
       "}\n",
       "\n",
       "/* Span, style for the box shown on hovering the info icon */\n",
       ".sk-estimator-doc-link span {\n",
       "  display: none;\n",
       "  z-index: 9999;\n",
       "  position: relative;\n",
       "  font-weight: normal;\n",
       "  right: .2ex;\n",
       "  padding: .5ex;\n",
       "  margin: .5ex;\n",
       "  width: min-content;\n",
       "  min-width: 20ex;\n",
       "  max-width: 50ex;\n",
       "  color: var(--sklearn-color-text);\n",
       "  box-shadow: 2pt 2pt 4pt #999;\n",
       "  /* unfitted */\n",
       "  background: var(--sklearn-color-unfitted-level-0);\n",
       "  border: .5pt solid var(--sklearn-color-unfitted-level-3);\n",
       "}\n",
       "\n",
       ".sk-estimator-doc-link.fitted span {\n",
       "  /* fitted */\n",
       "  background: var(--sklearn-color-fitted-level-0);\n",
       "  border: var(--sklearn-color-fitted-level-3);\n",
       "}\n",
       "\n",
       ".sk-estimator-doc-link:hover span {\n",
       "  display: block;\n",
       "}\n",
       "\n",
       "/* \"?\"-specific style due to the `<a>` HTML tag */\n",
       "\n",
       "#sk-container-id-4 a.estimator_doc_link {\n",
       "  float: right;\n",
       "  font-size: 1rem;\n",
       "  line-height: 1em;\n",
       "  font-family: monospace;\n",
       "  background-color: var(--sklearn-color-background);\n",
       "  border-radius: 1rem;\n",
       "  height: 1rem;\n",
       "  width: 1rem;\n",
       "  text-decoration: none;\n",
       "  /* unfitted */\n",
       "  color: var(--sklearn-color-unfitted-level-1);\n",
       "  border: var(--sklearn-color-unfitted-level-1) 1pt solid;\n",
       "}\n",
       "\n",
       "#sk-container-id-4 a.estimator_doc_link.fitted {\n",
       "  /* fitted */\n",
       "  border: var(--sklearn-color-fitted-level-1) 1pt solid;\n",
       "  color: var(--sklearn-color-fitted-level-1);\n",
       "}\n",
       "\n",
       "/* On hover */\n",
       "#sk-container-id-4 a.estimator_doc_link:hover {\n",
       "  /* unfitted */\n",
       "  background-color: var(--sklearn-color-unfitted-level-3);\n",
       "  color: var(--sklearn-color-background);\n",
       "  text-decoration: none;\n",
       "}\n",
       "\n",
       "#sk-container-id-4 a.estimator_doc_link.fitted:hover {\n",
       "  /* fitted */\n",
       "  background-color: var(--sklearn-color-fitted-level-3);\n",
       "}\n",
       "</style><div id=\"sk-container-id-4\" class=\"sk-top-container\"><div class=\"sk-text-repr-fallback\"><pre>GridSearchCV(cv=5, estimator=MLPClassifier(random_state=42), n_jobs=-1,\n",
       "             param_grid={&#x27;activation&#x27;: [&#x27;relu&#x27;, &#x27;tanh&#x27;], &#x27;alpha&#x27;: [0.0001],\n",
       "                         &#x27;batch_size&#x27;: [32, 64, 128], &#x27;early_stopping&#x27;: [True],\n",
       "                         &#x27;hidden_layer_sizes&#x27;: [(100, 50)],\n",
       "                         &#x27;learning_rate&#x27;: [&#x27;constant&#x27;, &#x27;adaptive&#x27;],\n",
       "                         &#x27;max_iter&#x27;: [500], &#x27;n_iter_no_change&#x27;: [10],\n",
       "                         &#x27;solver&#x27;: [&#x27;adam&#x27;]})</pre><b>In a Jupyter environment, please rerun this cell to show the HTML representation or trust the notebook. <br />On GitHub, the HTML representation is unable to render, please try loading this page with nbviewer.org.</b></div><div class=\"sk-container\" hidden><div class=\"sk-item sk-dashed-wrapped\"><div class=\"sk-label-container\"><div class=\"sk-label fitted sk-toggleable\"><input class=\"sk-toggleable__control sk-hidden--visually\" id=\"sk-estimator-id-10\" type=\"checkbox\" ><label for=\"sk-estimator-id-10\" class=\"sk-toggleable__label fitted sk-toggleable__label-arrow fitted\">&nbsp;&nbsp;GridSearchCV<a class=\"sk-estimator-doc-link fitted\" rel=\"noreferrer\" target=\"_blank\" href=\"https://scikit-learn.org/1.4/modules/generated/sklearn.model_selection.GridSearchCV.html\">?<span>Documentation for GridSearchCV</span></a><span class=\"sk-estimator-doc-link fitted\">i<span>Fitted</span></span></label><div class=\"sk-toggleable__content fitted\"><pre>GridSearchCV(cv=5, estimator=MLPClassifier(random_state=42), n_jobs=-1,\n",
       "             param_grid={&#x27;activation&#x27;: [&#x27;relu&#x27;, &#x27;tanh&#x27;], &#x27;alpha&#x27;: [0.0001],\n",
       "                         &#x27;batch_size&#x27;: [32, 64, 128], &#x27;early_stopping&#x27;: [True],\n",
       "                         &#x27;hidden_layer_sizes&#x27;: [(100, 50)],\n",
       "                         &#x27;learning_rate&#x27;: [&#x27;constant&#x27;, &#x27;adaptive&#x27;],\n",
       "                         &#x27;max_iter&#x27;: [500], &#x27;n_iter_no_change&#x27;: [10],\n",
       "                         &#x27;solver&#x27;: [&#x27;adam&#x27;]})</pre></div> </div></div><div class=\"sk-parallel\"><div class=\"sk-parallel-item\"><div class=\"sk-item\"><div class=\"sk-label-container\"><div class=\"sk-label fitted sk-toggleable\"><input class=\"sk-toggleable__control sk-hidden--visually\" id=\"sk-estimator-id-11\" type=\"checkbox\" ><label for=\"sk-estimator-id-11\" class=\"sk-toggleable__label fitted sk-toggleable__label-arrow fitted\">estimator: MLPClassifier</label><div class=\"sk-toggleable__content fitted\"><pre>MLPClassifier(random_state=42)</pre></div> </div></div><div class=\"sk-serial\"><div class=\"sk-item\"><div class=\"sk-estimator fitted sk-toggleable\"><input class=\"sk-toggleable__control sk-hidden--visually\" id=\"sk-estimator-id-12\" type=\"checkbox\" ><label for=\"sk-estimator-id-12\" class=\"sk-toggleable__label fitted sk-toggleable__label-arrow fitted\">&nbsp;MLPClassifier<a class=\"sk-estimator-doc-link fitted\" rel=\"noreferrer\" target=\"_blank\" href=\"https://scikit-learn.org/1.4/modules/generated/sklearn.neural_network.MLPClassifier.html\">?<span>Documentation for MLPClassifier</span></a></label><div class=\"sk-toggleable__content fitted\"><pre>MLPClassifier(random_state=42)</pre></div> </div></div></div></div></div></div></div></div></div>"
      ],
      "text/plain": [
       "GridSearchCV(cv=5, estimator=MLPClassifier(random_state=42), n_jobs=-1,\n",
       "             param_grid={'activation': ['relu', 'tanh'], 'alpha': [0.0001],\n",
       "                         'batch_size': [32, 64, 128], 'early_stopping': [True],\n",
       "                         'hidden_layer_sizes': [(100, 50)],\n",
       "                         'learning_rate': ['constant', 'adaptive'],\n",
       "                         'max_iter': [500], 'n_iter_no_change': [10],\n",
       "                         'solver': ['adam']})"
      ]
     },
     "execution_count": 60,
     "metadata": {},
     "output_type": "execute_result"
    }
   ],
   "source": [
    "param_grid = {\n",
    "    'hidden_layer_sizes': [(100, 50)],\n",
    "    'activation': ['relu', 'tanh'],\n",
    "    'solver': ['adam'],\n",
    "    'alpha': [0.0001],\n",
    "    'learning_rate': ['constant', 'adaptive'],\n",
    "    'max_iter': [500],\n",
    "    'batch_size': [32, 64, 128],\n",
    "    'early_stopping': [True],\n",
    "    'n_iter_no_change': [10],\n",
    "}\n",
    "\n",
    "grid_search = GridSearchCV(MLPClassifier(random_state=42), param_grid, cv=5, n_jobs=-1)\n",
    "grid_search.fit(X_train, y_train)"
   ]
  },
  {
   "cell_type": "markdown",
   "metadata": {
    "collapsed": false
   },
   "source": [
    "#### Make predictions with the best MLP model"
   ]
  },
  {
   "cell_type": "code",
   "execution_count": 61,
   "metadata": {
    "ExecuteTime": {
     "end_time": "2024-03-30T21:52:55.259122200Z",
     "start_time": "2024-03-30T21:52:55.211152200Z"
    },
    "collapsed": false
   },
   "outputs": [],
   "source": [
    "best_mlp = grid_search.best_estimator_\n",
    "y_pred = best_mlp.predict(X_test)"
   ]
  },
  {
   "cell_type": "markdown",
   "metadata": {
    "collapsed": false
   },
   "source": [
    "#### Generate MLP classification report"
   ]
  },
  {
   "cell_type": "code",
   "execution_count": 62,
   "metadata": {
    "ExecuteTime": {
     "end_time": "2024-03-30T21:52:55.259626200Z",
     "start_time": "2024-03-30T21:52:55.230085500Z"
    },
    "collapsed": false
   },
   "outputs": [
    {
     "name": "stdout",
     "output_type": "stream",
     "text": [
      "              precision    recall  f1-score   support\n",
      "\n",
      "           1       0.35      0.20      0.26      1166\n",
      "           2       0.07      0.00      0.01       293\n",
      "           3       0.33      0.16      0.21       516\n",
      "           4       0.41      0.34      0.37      1077\n",
      "           5       0.42      0.72      0.53      1684\n",
      "\n",
      "    accuracy                           0.40      4736\n",
      "   macro avg       0.32      0.28      0.27      4736\n",
      "weighted avg       0.37      0.40      0.36      4736\n",
      "\n"
     ]
    }
   ],
   "source": [
    "print(classification_report(y_test, y_pred, zero_division=0))"
   ]
  },
  {
   "cell_type": "markdown",
   "metadata": {
    "collapsed": false
   },
   "source": [
    "#### Plot confusion matrix"
   ]
  },
  {
   "cell_type": "code",
   "execution_count": 32,
   "metadata": {
    "ExecuteTime": {
     "end_time": "2024-03-30T21:52:55.468233900Z",
     "start_time": "2024-03-30T21:52:55.247976300Z"
    },
    "collapsed": false
   },
   "outputs": [
    {
     "data": {
      "image/png": "[encoded data removed]",
      "text/plain": [
       "<Figure size 1000x800 with 2 Axes>"
      ]
     },
     "metadata": {},
     "output_type": "display_data"
    }
   ],
   "source": [
    "class_labels = y.cat.categories  # This will automatically extract the category labels\n",
    "plot_confusion_matrix(y_test, y_pred, class_labels)"
   ]
  },
  {
   "cell_type": "code",
   "execution_count": 63,
   "metadata": {},
   "outputs": [
    {
     "name": "stdout",
     "output_type": "stream",
     "text": [
      "Accuracy for class 1: 0.20\n",
      "Accuracy for class 2: 0.00\n",
      "Accuracy for class 3: 0.16\n",
      "Accuracy for class 4: 0.34\n",
      "Accuracy for class 5: 0.72\n",
      "Overall accuracy: 0.40\n"
     ]
    }
   ],
   "source": [
    "# Print accuracy for each class\n",
    "cm = confusion_matrix(y_test, y_pred)\n",
    "correct_classifications = cm.diagonal()\n",
    "support = cm.sum(axis=1)\n",
    "class_accuracies = correct_classifications / support\n",
    "\n",
    "for i, accuracy in enumerate(class_accuracies, start=1):\n",
    "    print(f\"Accuracy for class {i}: {accuracy:.2f}\")\n",
    "\n",
    "overall_accuracy = accuracy_score(y_test, y_pred)\n",
    "print(f\"Overall accuracy: {overall_accuracy:.2f}\")"
   ]
  },
  {
   "cell_type": "markdown",
   "metadata": {},
   "source": [
    "# Trying to reach a more balanced Dataset"
   ]
  },
  {
   "cell_type": "code",
   "execution_count": 35,
   "metadata": {},
   "outputs": [
    {
     "name": "stdout",
     "output_type": "stream",
     "text": [
      "Desired Ratios for Oversampling:\n",
      "Class 2: 1313\n",
      "Class 3: 1460\n",
      "Class 4: 1042\n",
      "Desired Ratios for Undersampling:\n",
      "Class 1: 802\n",
      "Class 5: 983\n",
      "Batch Number: 1\n",
      "Batch Number: 2\n",
      "Batch Number: 3\n"
     ]
    },
    {
     "name": "stderr",
     "output_type": "stream",
     "text": [
      "C:\\Users\\matth\\AppData\\Local\\Temp\\ipykernel_27804\\449603437.py:55: PerformanceWarning: DataFrame is highly fragmented.  This is usually the result of calling `frame.insert` many times, which has poor performance.  Consider joining all columns at once using pd.concat(axis=1) instead. To get a de-fragmented frame, use `newframe = frame.copy()`\n",
      "  balanced_data['CSAT_Score'] = pd.concat([pd.Series(y_resampled) for _, y_resampled in resampled_batches],\n"
     ]
    },
    {
     "name": "stdout",
     "output_type": "stream",
     "text": [
      "Balanced dataset saved to 'balance_customer_support.db'.\n"
     ]
    }
   ],
   "source": [
    "num_batches = 3\n",
    "original_counts = {\n",
    "    1: 5348,\n",
    "    2: 394,   \n",
    "    3: 730,\n",
    "    4: 2605,\n",
    "    5: 19679  \n",
    "}\n",
    "desired_ratio = {\n",
    "    2: int(original_counts[2] / num_batches * 10),\n",
    "    3: int(original_counts[3] / num_batches* 5.5),\n",
    "    4: int(original_counts[4] /num_batches * 1.3)\n",
    "}\n",
    "undersampling_ratio = {\n",
    "    1: int(original_counts[1] / num_batches* 0.45),\n",
    "    5: int(original_counts[5] / num_batches * 0.15)\n",
    "}\n",
    "balance_data_with_resampling(desired_ratio,undersampling_ratio,\"perfectly_balanced.db\")"
   ]
  },
  {
   "cell_type": "code",
   "execution_count": 36,
   "metadata": {},
   "outputs": [
    {
     "name": "stdout",
     "output_type": "stream",
     "text": [
      "   CSAT_Score  count\n",
      "0           1   3200\n",
      "1           2   3539\n",
      "2           3   3023\n",
      "3           4   2855\n",
      "4           5   3524\n"
     ]
    }
   ],
   "source": [
    "conn = sqlite3.connect('perfectly_balanced.db')\n",
    "query = \"SELECT CSAT_Score, COUNT(*) as count FROM balanced_customer_support GROUP BY CSAT_Score\"\n",
    "csat_distribution = pd.read_sql_query(query, conn)\n",
    "conn.close()\n",
    "print(csat_distribution)"
   ]
  },
  {
   "cell_type": "markdown",
   "metadata": {},
   "source": [
    "# Loading the data from the perfectly balanced db"
   ]
  },
  {
   "cell_type": "code",
   "execution_count": 35,
   "metadata": {},
   "outputs": [],
   "source": [
    "conn = sqlite3.connect('perfectly_balanced.db')\n",
    "data = pd.read_sql_query(\"SELECT * FROM balanced_customer_support\", conn)\n",
    "conn.close()\n",
    "y = data['CSAT_Score'].astype('category')\n",
    "# OneHotEncode categorical features\n",
    "encoder = OneHotEncoder()\n",
    "encoded_features = encoder.fit_transform(\n",
    "    data[['Agent Shift', 'Tenure Bucket', 'channel_name', 'category', 'Sub-category', 'Supervisor', 'Manager']])\n",
    "encoded_feature_names = encoder.get_feature_names_out(\n",
    "    ['Agent Shift', 'Tenure Bucket', 'channel_name', 'category', 'Sub-category', 'Supervisor', 'Manager'])\n",
    "\n",
    "# Combine numerical and OneHotEncoded categorical features\n",
    "X = pd.concat(\n",
    "    [data[['issue_reported_hour_of_day', 'response_time_minutes', 'issue_reported_day_of_week', 'sentiment_score']],\n",
    "     pd.DataFrame(encoded_features.toarray(), columns=encoded_feature_names)], axis=1)\n",
    "X_train, X_test, y_train, y_test = train_test_split(X, y, test_size=0.2, random_state=42, stratify=y)"
   ]
  },
  {
   "cell_type": "markdown",
   "metadata": {},
   "source": [
    "## Random Forest"
   ]
  },
  {
   "cell_type": "code",
   "execution_count": 36,
   "metadata": {},
   "outputs": [],
   "source": [
    "# Grid search for hyperparameter tuning\n",
    "param_grid = {\n",
    "    'n_estimators': [100, 200, 300],\n",
    "    'max_depth': [10, 20, 30],\n",
    "    'min_samples_split': [2, 5, 10],\n",
    "    'min_samples_leaf': [1, 2, 4]\n",
    "}\n",
    "grid_search = GridSearchCV(RandomForestClassifier(random_state=42), param_grid, cv=5, scoring='accuracy',n_jobs=-1).fit(X_train, y_train)"
   ]
  },
  {
   "cell_type": "code",
   "execution_count": 37,
   "metadata": {},
   "outputs": [],
   "source": [
    "best_params = grid_search.best_params_\n",
    "best_model = grid_search.best_estimator_\n",
    "\n",
    "y_pred = best_model.predict(X_test)"
   ]
  },
  {
   "cell_type": "markdown",
   "metadata": {},
   "source": [
    "### Plot Confusion Matrix"
   ]
  },
  {
   "cell_type": "code",
   "execution_count": 38,
   "metadata": {},
   "outputs": [
    {
     "data": {
      "image/png": "[encoded data removed]",
      "text/plain": [
       "<Figure size 1000x800 with 2 Axes>"
      ]
     },
     "metadata": {},
     "output_type": "display_data"
    }
   ],
   "source": [
    "class_labels = [1, 2, 3, 4, 5]\n",
    "plot_confusion_matrix(y_test, y_pred, class_labels)"
   ]
  },
  {
   "cell_type": "markdown",
   "metadata": {},
   "source": [
    "### Classification report for RF"
   ]
  },
  {
   "cell_type": "code",
   "execution_count": 40,
   "metadata": {},
   "outputs": [
    {
     "name": "stdout",
     "output_type": "stream",
     "text": [
      "              precision    recall  f1-score   support\n",
      "\n",
      "           1       0.44      0.37      0.40       644\n",
      "           2       0.35      0.44      0.39       721\n",
      "           3       0.39      0.29      0.33       542\n",
      "           4       0.50      0.41      0.45       594\n",
      "           5       0.59      0.74      0.66       709\n",
      "\n",
      "    accuracy                           0.46      3210\n",
      "   macro avg       0.46      0.45      0.45      3210\n",
      "weighted avg       0.46      0.46      0.45      3210\n",
      "\n"
     ]
    }
   ],
   "source": [
    "print(classification_report(y_test, y_pred))"
   ]
  },
  {
   "cell_type": "code",
   "execution_count": 44,
   "metadata": {},
   "outputs": [
    {
     "name": "stdout",
     "output_type": "stream",
     "text": [
      "Accuracy for class 1: 0.37\n",
      "Accuracy for class 2: 0.44\n",
      "Accuracy for class 3: 0.29\n",
      "Accuracy for class 4: 0.41\n",
      "Accuracy for class 5: 0.74\n",
      "Overall accuracy: 0.46\n"
     ]
    }
   ],
   "source": [
    "# Print accuracy for each class\n",
    "cm = confusion_matrix(y_test, y_pred)\n",
    "correct_classifications = cm.diagonal()\n",
    "support = cm.sum(axis=1)\n",
    "class_accuracies = correct_classifications / support\n",
    "\n",
    "for i, accuracy in enumerate(class_accuracies, start=1):\n",
    "    print(f\"Accuracy for class {i}: {accuracy:.2f}\")\n",
    "    \n",
    "overall_accuracy = accuracy_score(y_test, y_pred)\n",
    "print(f\"Overall accuracy: {overall_accuracy:.2f}\")\n"
   ]
  },
  {
   "cell_type": "markdown",
   "metadata": {},
   "source": [
    "#### Display top 5 most important features for best Random Forest model for the perfectly balanced dataset"
   ]
  },
  {
   "cell_type": "code",
   "execution_count": 42,
   "metadata": {},
   "outputs": [
    {
     "name": "stdout",
     "output_type": "stream",
     "text": [
      "\n",
      "Top 5 Important Features for the Best Model:\n",
      "\n",
      "response_time_minutes: 0.1062\n",
      "issue_reported_day_of_week: 0.0845\n",
      "issue_reported_hour_of_day: 0.0786\n",
      "sentiment_score: 0.0771\n",
      "Manager_Jennifer Nguyen: 0.0163\n"
     ]
    }
   ],
   "source": [
    "feature_importances = best_model.feature_importances_\n",
    "sorted_indices = np.argsort(feature_importances)[::-1]\n",
    "top_features = [X.columns[i] for i in sorted_indices[:5]]\n",
    "top_importances = feature_importances[sorted_indices[:5]]\n",
    "\n",
    "print(\"\\nTop 5 Important Features for the Best Model:\\n\")\n",
    "for feature, importance in zip(top_features, top_importances):\n",
    "    print(f\"{feature}: {importance:.4f}\")"
   ]
  },
  {
   "cell_type": "markdown",
   "metadata": {},
   "source": [
    "# MLP Classifier "
   ]
  },
  {
   "cell_type": "code",
   "execution_count": 46,
   "metadata": {},
   "outputs": [
    {
     "data": {
      "text/html": [
       "<style>#sk-container-id-3 {\n",
       "  /* Definition of color scheme common for light and dark mode */\n",
       "  --sklearn-color-text: black;\n",
       "  --sklearn-color-line: gray;\n",
       "  /* Definition of color scheme for unfitted estimators */\n",
       "  --sklearn-color-unfitted-level-0: #fff5e6;\n",
       "  --sklearn-color-unfitted-level-1: #f6e4d2;\n",
       "  --sklearn-color-unfitted-level-2: #ffe0b3;\n",
       "  --sklearn-color-unfitted-level-3: chocolate;\n",
       "  /* Definition of color scheme for fitted estimators */\n",
       "  --sklearn-color-fitted-level-0: #f0f8ff;\n",
       "  --sklearn-color-fitted-level-1: #d4ebff;\n",
       "  --sklearn-color-fitted-level-2: #b3dbfd;\n",
       "  --sklearn-color-fitted-level-3: cornflowerblue;\n",
       "\n",
       "  /* Specific color for light theme */\n",
       "  --sklearn-color-text-on-default-background: var(--sg-text-color, var(--theme-code-foreground, var(--jp-content-font-color1, black)));\n",
       "  --sklearn-color-background: var(--sg-background-color, var(--theme-background, var(--jp-layout-color0, white)));\n",
       "  --sklearn-color-border-box: var(--sg-text-color, var(--theme-code-foreground, var(--jp-content-font-color1, black)));\n",
       "  --sklearn-color-icon: #696969;\n",
       "\n",
       "  @media (prefers-color-scheme: dark) {\n",
       "    /* Redefinition of color scheme for dark theme */\n",
       "    --sklearn-color-text-on-default-background: var(--sg-text-color, var(--theme-code-foreground, var(--jp-content-font-color1, white)));\n",
       "    --sklearn-color-background: var(--sg-background-color, var(--theme-background, var(--jp-layout-color0, #111)));\n",
       "    --sklearn-color-border-box: var(--sg-text-color, var(--theme-code-foreground, var(--jp-content-font-color1, white)));\n",
       "    --sklearn-color-icon: #878787;\n",
       "  }\n",
       "}\n",
       "\n",
       "#sk-container-id-3 {\n",
       "  color: var(--sklearn-color-text);\n",
       "}\n",
       "\n",
       "#sk-container-id-3 pre {\n",
       "  padding: 0;\n",
       "}\n",
       "\n",
       "#sk-container-id-3 input.sk-hidden--visually {\n",
       "  border: 0;\n",
       "  clip: rect(1px 1px 1px 1px);\n",
       "  clip: rect(1px, 1px, 1px, 1px);\n",
       "  height: 1px;\n",
       "  margin: -1px;\n",
       "  overflow: hidden;\n",
       "  padding: 0;\n",
       "  position: absolute;\n",
       "  width: 1px;\n",
       "}\n",
       "\n",
       "#sk-container-id-3 div.sk-dashed-wrapped {\n",
       "  border: 1px dashed var(--sklearn-color-line);\n",
       "  margin: 0 0.4em 0.5em 0.4em;\n",
       "  box-sizing: border-box;\n",
       "  padding-bottom: 0.4em;\n",
       "  background-color: var(--sklearn-color-background);\n",
       "}\n",
       "\n",
       "#sk-container-id-3 div.sk-container {\n",
       "  /* jupyter's `normalize.less` sets `[hidden] { display: none; }`\n",
       "     but bootstrap.min.css set `[hidden] { display: none !important; }`\n",
       "     so we also need the `!important` here to be able to override the\n",
       "     default hidden behavior on the sphinx rendered scikit-learn.org.\n",
       "     See: https://github.com/scikit-learn/scikit-learn/issues/21755 */\n",
       "  display: inline-block !important;\n",
       "  position: relative;\n",
       "}\n",
       "\n",
       "#sk-container-id-3 div.sk-text-repr-fallback {\n",
       "  display: none;\n",
       "}\n",
       "\n",
       "div.sk-parallel-item,\n",
       "div.sk-serial,\n",
       "div.sk-item {\n",
       "  /* draw centered vertical line to link estimators */\n",
       "  background-image: linear-gradient(var(--sklearn-color-text-on-default-background), var(--sklearn-color-text-on-default-background));\n",
       "  background-size: 2px 100%;\n",
       "  background-repeat: no-repeat;\n",
       "  background-position: center center;\n",
       "}\n",
       "\n",
       "/* Parallel-specific style estimator block */\n",
       "\n",
       "#sk-container-id-3 div.sk-parallel-item::after {\n",
       "  content: \"\";\n",
       "  width: 100%;\n",
       "  border-bottom: 2px solid var(--sklearn-color-text-on-default-background);\n",
       "  flex-grow: 1;\n",
       "}\n",
       "\n",
       "#sk-container-id-3 div.sk-parallel {\n",
       "  display: flex;\n",
       "  align-items: stretch;\n",
       "  justify-content: center;\n",
       "  background-color: var(--sklearn-color-background);\n",
       "  position: relative;\n",
       "}\n",
       "\n",
       "#sk-container-id-3 div.sk-parallel-item {\n",
       "  display: flex;\n",
       "  flex-direction: column;\n",
       "}\n",
       "\n",
       "#sk-container-id-3 div.sk-parallel-item:first-child::after {\n",
       "  align-self: flex-end;\n",
       "  width: 50%;\n",
       "}\n",
       "\n",
       "#sk-container-id-3 div.sk-parallel-item:last-child::after {\n",
       "  align-self: flex-start;\n",
       "  width: 50%;\n",
       "}\n",
       "\n",
       "#sk-container-id-3 div.sk-parallel-item:only-child::after {\n",
       "  width: 0;\n",
       "}\n",
       "\n",
       "/* Serial-specific style estimator block */\n",
       "\n",
       "#sk-container-id-3 div.sk-serial {\n",
       "  display: flex;\n",
       "  flex-direction: column;\n",
       "  align-items: center;\n",
       "  background-color: var(--sklearn-color-background);\n",
       "  padding-right: 1em;\n",
       "  padding-left: 1em;\n",
       "}\n",
       "\n",
       "\n",
       "/* Toggleable style: style used for estimator/Pipeline/ColumnTransformer box that is\n",
       "clickable and can be expanded/collapsed.\n",
       "- Pipeline and ColumnTransformer use this feature and define the default style\n",
       "- Estimators will overwrite some part of the style using the `sk-estimator` class\n",
       "*/\n",
       "\n",
       "/* Pipeline and ColumnTransformer style (default) */\n",
       "\n",
       "#sk-container-id-3 div.sk-toggleable {\n",
       "  /* Default theme specific background. It is overwritten whether we have a\n",
       "  specific estimator or a Pipeline/ColumnTransformer */\n",
       "  background-color: var(--sklearn-color-background);\n",
       "}\n",
       "\n",
       "/* Toggleable label */\n",
       "#sk-container-id-3 label.sk-toggleable__label {\n",
       "  cursor: pointer;\n",
       "  display: block;\n",
       "  width: 100%;\n",
       "  margin-bottom: 0;\n",
       "  padding: 0.5em;\n",
       "  box-sizing: border-box;\n",
       "  text-align: center;\n",
       "}\n",
       "\n",
       "#sk-container-id-3 label.sk-toggleable__label-arrow:before {\n",
       "  /* Arrow on the left of the label */\n",
       "  content: \"▸\";\n",
       "  float: left;\n",
       "  margin-right: 0.25em;\n",
       "  color: var(--sklearn-color-icon);\n",
       "}\n",
       "\n",
       "#sk-container-id-3 label.sk-toggleable__label-arrow:hover:before {\n",
       "  color: var(--sklearn-color-text);\n",
       "}\n",
       "\n",
       "/* Toggleable content - dropdown */\n",
       "\n",
       "#sk-container-id-3 div.sk-toggleable__content {\n",
       "  max-height: 0;\n",
       "  max-width: 0;\n",
       "  overflow: hidden;\n",
       "  text-align: left;\n",
       "  /* unfitted */\n",
       "  background-color: var(--sklearn-color-unfitted-level-0);\n",
       "}\n",
       "\n",
       "#sk-container-id-3 div.sk-toggleable__content.fitted {\n",
       "  /* fitted */\n",
       "  background-color: var(--sklearn-color-fitted-level-0);\n",
       "}\n",
       "\n",
       "#sk-container-id-3 div.sk-toggleable__content pre {\n",
       "  margin: 0.2em;\n",
       "  border-radius: 0.25em;\n",
       "  color: var(--sklearn-color-text);\n",
       "  /* unfitted */\n",
       "  background-color: var(--sklearn-color-unfitted-level-0);\n",
       "}\n",
       "\n",
       "#sk-container-id-3 div.sk-toggleable__content.fitted pre {\n",
       "  /* unfitted */\n",
       "  background-color: var(--sklearn-color-fitted-level-0);\n",
       "}\n",
       "\n",
       "#sk-container-id-3 input.sk-toggleable__control:checked~div.sk-toggleable__content {\n",
       "  /* Expand drop-down */\n",
       "  max-height: 200px;\n",
       "  max-width: 100%;\n",
       "  overflow: auto;\n",
       "}\n",
       "\n",
       "#sk-container-id-3 input.sk-toggleable__control:checked~label.sk-toggleable__label-arrow:before {\n",
       "  content: \"▾\";\n",
       "}\n",
       "\n",
       "/* Pipeline/ColumnTransformer-specific style */\n",
       "\n",
       "#sk-container-id-3 div.sk-label input.sk-toggleable__control:checked~label.sk-toggleable__label {\n",
       "  color: var(--sklearn-color-text);\n",
       "  background-color: var(--sklearn-color-unfitted-level-2);\n",
       "}\n",
       "\n",
       "#sk-container-id-3 div.sk-label.fitted input.sk-toggleable__control:checked~label.sk-toggleable__label {\n",
       "  background-color: var(--sklearn-color-fitted-level-2);\n",
       "}\n",
       "\n",
       "/* Estimator-specific style */\n",
       "\n",
       "/* Colorize estimator box */\n",
       "#sk-container-id-3 div.sk-estimator input.sk-toggleable__control:checked~label.sk-toggleable__label {\n",
       "  /* unfitted */\n",
       "  background-color: var(--sklearn-color-unfitted-level-2);\n",
       "}\n",
       "\n",
       "#sk-container-id-3 div.sk-estimator.fitted input.sk-toggleable__control:checked~label.sk-toggleable__label {\n",
       "  /* fitted */\n",
       "  background-color: var(--sklearn-color-fitted-level-2);\n",
       "}\n",
       "\n",
       "#sk-container-id-3 div.sk-label label.sk-toggleable__label,\n",
       "#sk-container-id-3 div.sk-label label {\n",
       "  /* The background is the default theme color */\n",
       "  color: var(--sklearn-color-text-on-default-background);\n",
       "}\n",
       "\n",
       "/* On hover, darken the color of the background */\n",
       "#sk-container-id-3 div.sk-label:hover label.sk-toggleable__label {\n",
       "  color: var(--sklearn-color-text);\n",
       "  background-color: var(--sklearn-color-unfitted-level-2);\n",
       "}\n",
       "\n",
       "/* Label box, darken color on hover, fitted */\n",
       "#sk-container-id-3 div.sk-label.fitted:hover label.sk-toggleable__label.fitted {\n",
       "  color: var(--sklearn-color-text);\n",
       "  background-color: var(--sklearn-color-fitted-level-2);\n",
       "}\n",
       "\n",
       "/* Estimator label */\n",
       "\n",
       "#sk-container-id-3 div.sk-label label {\n",
       "  font-family: monospace;\n",
       "  font-weight: bold;\n",
       "  display: inline-block;\n",
       "  line-height: 1.2em;\n",
       "}\n",
       "\n",
       "#sk-container-id-3 div.sk-label-container {\n",
       "  text-align: center;\n",
       "}\n",
       "\n",
       "/* Estimator-specific */\n",
       "#sk-container-id-3 div.sk-estimator {\n",
       "  font-family: monospace;\n",
       "  border: 1px dotted var(--sklearn-color-border-box);\n",
       "  border-radius: 0.25em;\n",
       "  box-sizing: border-box;\n",
       "  margin-bottom: 0.5em;\n",
       "  /* unfitted */\n",
       "  background-color: var(--sklearn-color-unfitted-level-0);\n",
       "}\n",
       "\n",
       "#sk-container-id-3 div.sk-estimator.fitted {\n",
       "  /* fitted */\n",
       "  background-color: var(--sklearn-color-fitted-level-0);\n",
       "}\n",
       "\n",
       "/* on hover */\n",
       "#sk-container-id-3 div.sk-estimator:hover {\n",
       "  /* unfitted */\n",
       "  background-color: var(--sklearn-color-unfitted-level-2);\n",
       "}\n",
       "\n",
       "#sk-container-id-3 div.sk-estimator.fitted:hover {\n",
       "  /* fitted */\n",
       "  background-color: var(--sklearn-color-fitted-level-2);\n",
       "}\n",
       "\n",
       "/* Specification for estimator info (e.g. \"i\" and \"?\") */\n",
       "\n",
       "/* Common style for \"i\" and \"?\" */\n",
       "\n",
       ".sk-estimator-doc-link,\n",
       "a:link.sk-estimator-doc-link,\n",
       "a:visited.sk-estimator-doc-link {\n",
       "  float: right;\n",
       "  font-size: smaller;\n",
       "  line-height: 1em;\n",
       "  font-family: monospace;\n",
       "  background-color: var(--sklearn-color-background);\n",
       "  border-radius: 1em;\n",
       "  height: 1em;\n",
       "  width: 1em;\n",
       "  text-decoration: none !important;\n",
       "  margin-left: 1ex;\n",
       "  /* unfitted */\n",
       "  border: var(--sklearn-color-unfitted-level-1) 1pt solid;\n",
       "  color: var(--sklearn-color-unfitted-level-1);\n",
       "}\n",
       "\n",
       ".sk-estimator-doc-link.fitted,\n",
       "a:link.sk-estimator-doc-link.fitted,\n",
       "a:visited.sk-estimator-doc-link.fitted {\n",
       "  /* fitted */\n",
       "  border: var(--sklearn-color-fitted-level-1) 1pt solid;\n",
       "  color: var(--sklearn-color-fitted-level-1);\n",
       "}\n",
       "\n",
       "/* On hover */\n",
       "div.sk-estimator:hover .sk-estimator-doc-link:hover,\n",
       ".sk-estimator-doc-link:hover,\n",
       "div.sk-label-container:hover .sk-estimator-doc-link:hover,\n",
       ".sk-estimator-doc-link:hover {\n",
       "  /* unfitted */\n",
       "  background-color: var(--sklearn-color-unfitted-level-3);\n",
       "  color: var(--sklearn-color-background);\n",
       "  text-decoration: none;\n",
       "}\n",
       "\n",
       "div.sk-estimator.fitted:hover .sk-estimator-doc-link.fitted:hover,\n",
       ".sk-estimator-doc-link.fitted:hover,\n",
       "div.sk-label-container:hover .sk-estimator-doc-link.fitted:hover,\n",
       ".sk-estimator-doc-link.fitted:hover {\n",
       "  /* fitted */\n",
       "  background-color: var(--sklearn-color-fitted-level-3);\n",
       "  color: var(--sklearn-color-background);\n",
       "  text-decoration: none;\n",
       "}\n",
       "\n",
       "/* Span, style for the box shown on hovering the info icon */\n",
       ".sk-estimator-doc-link span {\n",
       "  display: none;\n",
       "  z-index: 9999;\n",
       "  position: relative;\n",
       "  font-weight: normal;\n",
       "  right: .2ex;\n",
       "  padding: .5ex;\n",
       "  margin: .5ex;\n",
       "  width: min-content;\n",
       "  min-width: 20ex;\n",
       "  max-width: 50ex;\n",
       "  color: var(--sklearn-color-text);\n",
       "  box-shadow: 2pt 2pt 4pt #999;\n",
       "  /* unfitted */\n",
       "  background: var(--sklearn-color-unfitted-level-0);\n",
       "  border: .5pt solid var(--sklearn-color-unfitted-level-3);\n",
       "}\n",
       "\n",
       ".sk-estimator-doc-link.fitted span {\n",
       "  /* fitted */\n",
       "  background: var(--sklearn-color-fitted-level-0);\n",
       "  border: var(--sklearn-color-fitted-level-3);\n",
       "}\n",
       "\n",
       ".sk-estimator-doc-link:hover span {\n",
       "  display: block;\n",
       "}\n",
       "\n",
       "/* \"?\"-specific style due to the `<a>` HTML tag */\n",
       "\n",
       "#sk-container-id-3 a.estimator_doc_link {\n",
       "  float: right;\n",
       "  font-size: 1rem;\n",
       "  line-height: 1em;\n",
       "  font-family: monospace;\n",
       "  background-color: var(--sklearn-color-background);\n",
       "  border-radius: 1rem;\n",
       "  height: 1rem;\n",
       "  width: 1rem;\n",
       "  text-decoration: none;\n",
       "  /* unfitted */\n",
       "  color: var(--sklearn-color-unfitted-level-1);\n",
       "  border: var(--sklearn-color-unfitted-level-1) 1pt solid;\n",
       "}\n",
       "\n",
       "#sk-container-id-3 a.estimator_doc_link.fitted {\n",
       "  /* fitted */\n",
       "  border: var(--sklearn-color-fitted-level-1) 1pt solid;\n",
       "  color: var(--sklearn-color-fitted-level-1);\n",
       "}\n",
       "\n",
       "/* On hover */\n",
       "#sk-container-id-3 a.estimator_doc_link:hover {\n",
       "  /* unfitted */\n",
       "  background-color: var(--sklearn-color-unfitted-level-3);\n",
       "  color: var(--sklearn-color-background);\n",
       "  text-decoration: none;\n",
       "}\n",
       "\n",
       "#sk-container-id-3 a.estimator_doc_link.fitted:hover {\n",
       "  /* fitted */\n",
       "  background-color: var(--sklearn-color-fitted-level-3);\n",
       "}\n",
       "</style><div id=\"sk-container-id-3\" class=\"sk-top-container\"><div class=\"sk-text-repr-fallback\"><pre>GridSearchCV(cv=5, estimator=MLPClassifier(random_state=42), n_jobs=-1,\n",
       "             param_grid={&#x27;activation&#x27;: [&#x27;relu&#x27;, &#x27;tanh&#x27;], &#x27;alpha&#x27;: [0.0001],\n",
       "                         &#x27;batch_size&#x27;: [32, 64, 128], &#x27;early_stopping&#x27;: [True],\n",
       "                         &#x27;hidden_layer_sizes&#x27;: [(100, 50)],\n",
       "                         &#x27;learning_rate&#x27;: [&#x27;constant&#x27;, &#x27;adaptive&#x27;],\n",
       "                         &#x27;max_iter&#x27;: [500], &#x27;n_iter_no_change&#x27;: [10],\n",
       "                         &#x27;solver&#x27;: [&#x27;adam&#x27;]})</pre><b>In a Jupyter environment, please rerun this cell to show the HTML representation or trust the notebook. <br />On GitHub, the HTML representation is unable to render, please try loading this page with nbviewer.org.</b></div><div class=\"sk-container\" hidden><div class=\"sk-item sk-dashed-wrapped\"><div class=\"sk-label-container\"><div class=\"sk-label fitted sk-toggleable\"><input class=\"sk-toggleable__control sk-hidden--visually\" id=\"sk-estimator-id-7\" type=\"checkbox\" ><label for=\"sk-estimator-id-7\" class=\"sk-toggleable__label fitted sk-toggleable__label-arrow fitted\">&nbsp;&nbsp;GridSearchCV<a class=\"sk-estimator-doc-link fitted\" rel=\"noreferrer\" target=\"_blank\" href=\"https://scikit-learn.org/1.4/modules/generated/sklearn.model_selection.GridSearchCV.html\">?<span>Documentation for GridSearchCV</span></a><span class=\"sk-estimator-doc-link fitted\">i<span>Fitted</span></span></label><div class=\"sk-toggleable__content fitted\"><pre>GridSearchCV(cv=5, estimator=MLPClassifier(random_state=42), n_jobs=-1,\n",
       "             param_grid={&#x27;activation&#x27;: [&#x27;relu&#x27;, &#x27;tanh&#x27;], &#x27;alpha&#x27;: [0.0001],\n",
       "                         &#x27;batch_size&#x27;: [32, 64, 128], &#x27;early_stopping&#x27;: [True],\n",
       "                         &#x27;hidden_layer_sizes&#x27;: [(100, 50)],\n",
       "                         &#x27;learning_rate&#x27;: [&#x27;constant&#x27;, &#x27;adaptive&#x27;],\n",
       "                         &#x27;max_iter&#x27;: [500], &#x27;n_iter_no_change&#x27;: [10],\n",
       "                         &#x27;solver&#x27;: [&#x27;adam&#x27;]})</pre></div> </div></div><div class=\"sk-parallel\"><div class=\"sk-parallel-item\"><div class=\"sk-item\"><div class=\"sk-label-container\"><div class=\"sk-label fitted sk-toggleable\"><input class=\"sk-toggleable__control sk-hidden--visually\" id=\"sk-estimator-id-8\" type=\"checkbox\" ><label for=\"sk-estimator-id-8\" class=\"sk-toggleable__label fitted sk-toggleable__label-arrow fitted\">estimator: MLPClassifier</label><div class=\"sk-toggleable__content fitted\"><pre>MLPClassifier(random_state=42)</pre></div> </div></div><div class=\"sk-serial\"><div class=\"sk-item\"><div class=\"sk-estimator fitted sk-toggleable\"><input class=\"sk-toggleable__control sk-hidden--visually\" id=\"sk-estimator-id-9\" type=\"checkbox\" ><label for=\"sk-estimator-id-9\" class=\"sk-toggleable__label fitted sk-toggleable__label-arrow fitted\">&nbsp;MLPClassifier<a class=\"sk-estimator-doc-link fitted\" rel=\"noreferrer\" target=\"_blank\" href=\"https://scikit-learn.org/1.4/modules/generated/sklearn.neural_network.MLPClassifier.html\">?<span>Documentation for MLPClassifier</span></a></label><div class=\"sk-toggleable__content fitted\"><pre>MLPClassifier(random_state=42)</pre></div> </div></div></div></div></div></div></div></div></div>"
      ],
      "text/plain": [
       "GridSearchCV(cv=5, estimator=MLPClassifier(random_state=42), n_jobs=-1,\n",
       "             param_grid={'activation': ['relu', 'tanh'], 'alpha': [0.0001],\n",
       "                         'batch_size': [32, 64, 128], 'early_stopping': [True],\n",
       "                         'hidden_layer_sizes': [(100, 50)],\n",
       "                         'learning_rate': ['constant', 'adaptive'],\n",
       "                         'max_iter': [500], 'n_iter_no_change': [10],\n",
       "                         'solver': ['adam']})"
      ]
     },
     "execution_count": 46,
     "metadata": {},
     "output_type": "execute_result"
    }
   ],
   "source": [
    "param_grid = {\n",
    "    'hidden_layer_sizes': [(100, 50)],\n",
    "    'activation': ['relu', 'tanh'],\n",
    "    'solver': ['adam'],\n",
    "    'alpha': [0.0001],\n",
    "    'learning_rate': ['constant', 'adaptive'],\n",
    "    'max_iter': [500],\n",
    "    'batch_size': [32, 64, 128],\n",
    "    'early_stopping': [True],\n",
    "    'n_iter_no_change': [10],\n",
    "}\n",
    "\n",
    "grid_search = GridSearchCV(MLPClassifier(random_state=42), param_grid, cv=5, n_jobs=-1)\n",
    "grid_search.fit(X_train, y_train)"
   ]
  },
  {
   "cell_type": "code",
   "execution_count": 47,
   "metadata": {},
   "outputs": [],
   "source": [
    "best_mlp = grid_search.best_estimator_\n",
    "y_pred = best_mlp.predict(X_test)"
   ]
  },
  {
   "cell_type": "markdown",
   "metadata": {},
   "source": [
    "### Confusion Matrix for MLP"
   ]
  },
  {
   "cell_type": "code",
   "execution_count": 48,
   "metadata": {},
   "outputs": [
    {
     "data": {
      "image/png": "[encoded data removed]",
      "text/plain": [
       "<Figure size 1000x800 with 2 Axes>"
      ]
     },
     "metadata": {},
     "output_type": "display_data"
    }
   ],
   "source": [
    "class_labels = y.cat.categories  # This will automatically extract the category labels\n",
    "plot_confusion_matrix(y_test, y_pred, class_labels)"
   ]
  },
  {
   "cell_type": "markdown",
   "metadata": {},
   "source": [
    "### Classification Report for MLP"
   ]
  },
  {
   "cell_type": "code",
   "execution_count": 49,
   "metadata": {},
   "outputs": [
    {
     "name": "stdout",
     "output_type": "stream",
     "text": [
      "              precision    recall  f1-score   support\n",
      "\n",
      "           1       0.44      0.27      0.34       644\n",
      "           2       0.32      0.34      0.33       721\n",
      "           3       0.36      0.29      0.32       542\n",
      "           4       0.35      0.45      0.39       594\n",
      "           5       0.52      0.62      0.57       709\n",
      "\n",
      "    accuracy                           0.40      3210\n",
      "   macro avg       0.40      0.39      0.39      3210\n",
      "weighted avg       0.40      0.40      0.39      3210\n",
      "\n"
     ]
    }
   ],
   "source": [
    "print(classification_report(y_test, y_pred))"
   ]
  },
  {
   "cell_type": "code",
   "execution_count": 50,
   "metadata": {},
   "outputs": [
    {
     "name": "stdout",
     "output_type": "stream",
     "text": [
      "Accuracy for class 1: 0.27\n",
      "Accuracy for class 2: 0.34\n",
      "Accuracy for class 3: 0.29\n",
      "Accuracy for class 4: 0.45\n",
      "Accuracy for class 5: 0.62\n",
      "Overall accuracy: 0.40\n"
     ]
    }
   ],
   "source": [
    "# Print accuracy for each class\n",
    "cm = confusion_matrix(y_test, y_pred)\n",
    "correct_classifications = cm.diagonal()\n",
    "support = cm.sum(axis=1)\n",
    "class_accuracies = correct_classifications / support\n",
    "\n",
    "for i, accuracy in enumerate(class_accuracies, start=1):\n",
    "    print(f\"Accuracy for class {i}: {accuracy:.2f}\")\n",
    "\n",
    "overall_accuracy = accuracy_score(y_test, y_pred)\n",
    "print(f\"Overall accuracy: {overall_accuracy:.2f}\")"
   ]
  },
  {
   "cell_type": "markdown",
   "metadata": {},
   "source": [
    "### Display the top 5 important features ... bla bla "
   ]
  },
  {
   "cell_type": "markdown",
   "metadata": {},
   "source": []
  }
 ],
 "metadata": {
  "colab": {
   "provenance": []
  },
  "kernelspec": {
   "display_name": "Python 3 (ipykernel)",
   "language": "python",
   "name": "python3"
  },
  "language_info": {
   "codemirror_mode": {
    "name": "ipython",
    "version": 3
   },
   "file_extension": ".py",
   "mimetype": "text/x-python",
   "name": "python",
   "nbconvert_exporter": "python",
   "pygments_lexer": "ipython3",
   "version": "3.11.8"
  }
 },
 "nbformat": 4,
 "nbformat_minor": 0
}

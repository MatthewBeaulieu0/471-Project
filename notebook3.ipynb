{
 "cells": [
  {
   "cell_type": "code",
   "execution_count": 8,
   "id": "initial_id",
   "metadata": {
    "collapsed": true,
    "ExecuteTime": {
     "end_time": "2024-03-29T16:48:05.814837Z",
     "start_time": "2024-03-29T16:48:05.807014Z"
    }
   },
   "outputs": [],
   "source": []
  },
  {
   "cell_type": "code",
   "outputs": [
    {
     "data": {
      "text/plain": "<Figure size 720x576 with 2 Axes>",
      "image/png": "[encoded data removed]"
     },
     "metadata": {
      "needs_background": "light"
     },
     "output_type": "display_data"
    },
    {
     "name": "stdout",
     "output_type": "stream",
     "text": [
      "Best Model Classification Report:\n",
      "              precision    recall  f1-score   support\n",
      "\n",
      "           1       0.42      0.20      0.27      1220\n",
      "           2       0.00      0.00      0.00       299\n",
      "           3       0.70      0.16      0.26       481\n",
      "           4       0.47      0.21      0.29       875\n",
      "           5       0.46      0.88      0.60      1908\n",
      "\n",
      "    accuracy                           0.46      4783\n",
      "   macro avg       0.41      0.29      0.29      4783\n",
      "weighted avg       0.44      0.46      0.39      4783\n",
      "\n",
      "\n",
      "Top 5 Important Features for the Best Model:\n",
      "issue_reported_day_of_week: 0.1202\n",
      "response_time_minutes: 0.0981\n",
      "issue_reported_hour_of_day: 0.0853\n",
      "sentiment_score: 0.0773\n",
      "Sub-category_Reverse Pickup Enquiry: 0.0132\n"
     ]
    }
   ],
   "source": [
    "import sqlite3\n",
    "import pandas as pd\n",
    "import numpy as np\n",
    "from sklearn.ensemble import RandomForestClassifier\n",
    "from sklearn.metrics import accuracy_score, classification_report\n",
    "from sklearn.preprocessing import OneHotEncoder\n",
    "from sklearn.model_selection import train_test_split, GridSearchCV\n",
    "import matplotlib.pyplot as plt\n",
    "import seaborn as sns\n",
    "from sklearn.metrics import confusion_matrix\n",
    "\n",
    "# Load the data from the SQLite database\n",
    "conn = sqlite3.connect('balance_customer_support.db')\n",
    "data = pd.read_sql_query(\"SELECT * FROM balanced_customer_support\", conn)\n",
    "conn.close()\n",
    "\n",
    "# Define the target variable 'y'\n",
    "y = data['CSAT_Score'].astype('category')  # Ensuring 'y' is a categorical type for stratification\n",
    "\n",
    "# OneHotEncode categorical features\n",
    "encoder = OneHotEncoder()\n",
    "encoded_features = encoder.fit_transform(data[['Agent Shift', 'Tenure Bucket', 'channel_name', 'category', 'Sub-category', 'Supervisor', 'Manager']])\n",
    "encoded_feature_names = encoder.get_feature_names_out(['Agent Shift', 'Tenure Bucket', 'channel_name', 'category', 'Sub-category', 'Supervisor', 'Manager'])\n",
    "\n",
    "# Combine numerical and OneHotEncoded categorical features\n",
    "X = pd.concat([data[['issue_reported_hour_of_day', 'response_time_minutes', 'issue_reported_day_of_week', 'sentiment_score']], pd.DataFrame(encoded_features.toarray(), columns=encoded_feature_names)], axis=1)\n",
    "\n",
    "# Split the data into training and testing sets with stratification\n",
    "X_train, X_test, y_train, y_test = train_test_split(X, y, test_size=0.2, random_state=42, stratify=y)\n",
    "\n",
    "# Grid search for hyperparameter tuning\n",
    "param_grid = {\n",
    "    'n_estimators': [100, 200, 300],\n",
    "    'max_depth': [10, 20, 30],\n",
    "    'min_samples_split': [2, 5, 10],\n",
    "    'min_samples_leaf': [1, 2, 4]\n",
    "}\n",
    "grid_search = GridSearchCV(RandomForestClassifier(random_state=42), param_grid, cv=5, scoring='accuracy', n_jobs=-1)\n",
    "grid_search.fit(X_train, y_train)\n",
    "\n",
    "# Get the best model from grid search\n",
    "best_params = grid_search.best_params_\n",
    "best_model = grid_search.best_estimator_\n",
    "\n",
    "# Make predictions with the best model\n",
    "y_pred = best_model.predict(X_test)\n",
    "\n",
    "# Confusion matrix\n",
    "class_labels = [1, 2, 3, 4, 5]\n",
    "\n",
    "conf_matrix = confusion_matrix(y_test, y_pred, labels=class_labels)\n",
    "\n",
    "plt.figure(figsize=(10, 8))\n",
    "sns.heatmap(conf_matrix, annot=True, fmt='g', cmap='Blues', xticklabels=class_labels, yticklabels=class_labels)\n",
    "plt.xlabel('Predicted labels')\n",
    "plt.ylabel('True labels')\n",
    "plt.title('Confusion Matrix')\n",
    "plt.show()\n",
    "\n",
    "# Classification report\n",
    "print(\"Best Model Classification Report:\")\n",
    "print(classification_report(y_test, y_pred))\n",
    "\n",
    "# Print the top 5 important features\n",
    "feature_importances = best_model.feature_importances_\n",
    "sorted_indices = np.argsort(feature_importances)[::-1]\n",
    "top_features = [X.columns[i] for i in sorted_indices[:5]]\n",
    "top_importances = feature_importances[sorted_indices[:5]]\n",
    "\n",
    "print(\"\\nTop 5 Important Features for the Best Model:\")\n",
    "for feature, importance in zip(top_features, top_importances):\n",
    "    print(f\"{feature}: {importance:.4f}\")\n"
   ],
   "metadata": {
    "collapsed": false,
    "ExecuteTime": {
     "end_time": "2024-03-29T16:52:07.805602Z",
     "start_time": "2024-03-29T16:48:05.827Z"
    }
   },
   "id": "e3ad35d4e9dd9beb",
   "execution_count": 9
  },
  {
   "cell_type": "code",
   "outputs": [],
   "source": [],
   "metadata": {
    "collapsed": false,
    "ExecuteTime": {
     "end_time": "2024-03-29T16:52:07.806304Z",
     "start_time": "2024-03-29T16:52:07.495468Z"
    }
   },
   "id": "7cc0d76f4760f7c7",
   "execution_count": 9
  }
 ],
 "metadata": {
  "kernelspec": {
   "display_name": "Python 3",
   "language": "python",
   "name": "python3"
  },
  "language_info": {
   "codemirror_mode": {
    "name": "ipython",
    "version": 2
   },
   "file_extension": ".py",
   "mimetype": "text/x-python",
   "name": "python",
   "nbconvert_exporter": "python",
   "pygments_lexer": "ipython2",
   "version": "2.7.6"
  }
 },
 "nbformat": 4,
 "nbformat_minor": 5
}

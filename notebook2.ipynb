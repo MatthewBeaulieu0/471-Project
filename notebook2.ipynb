{
 "cells": [
  {
   "cell_type": "code",
   "execution_count": 1,
   "metadata": {},
   "outputs": [
    {
     "name": "stderr",
     "output_type": "stream",
     "text": [
      "C:\\Users\\matth\\AppData\\Local\\Temp\\ipykernel_32580\\3918802853.py:47: PerformanceWarning: DataFrame is highly fragmented.  This is usually the result of calling `frame.insert` many times, which has poor performance.  Consider joining all columns at once using pd.concat(axis=1) instead. To get a de-fragmented frame, use `newframe = frame.copy()`\n",
      "  balanced_data['CSAT_Score'] = pd.concat([pd.Series(y_resampled) for _, y_resampled in resampled_batches], ignore_index=True)\n"
     ]
    },
    {
     "name": "stdout",
     "output_type": "stream",
     "text": [
      "Balanced dataset saved to 'balance_customer_support.db'.\n"
     ]
    }
   ],
   "source": [
    "import pandas as pd\n",
    "import sqlite3\n",
    "from imblearn.over_sampling import SMOTE\n",
    "from imblearn.under_sampling import RandomUnderSampler\n",
    "from imblearn.pipeline import Pipeline\n",
    "from sklearn.model_selection import train_test_split\n",
    "\n",
    "conn = sqlite3.connect('cleaned_customer_support.db')\n",
    "data = pd.read_sql_query(\"SELECT * FROM cleaned_customer_support\", conn)\n",
    "conn.close()\n",
    "\n",
    "# Identify non-numerical columns\n",
    "non_numerical_cols = data.select_dtypes(include=['object']).columns\n",
    "original_to_encoded_cols = {}\n",
    "for col in non_numerical_cols:\n",
    "    encoded_cols = [f\"{col}_{value}\" for value in data[col].unique()]\n",
    "    original_to_encoded_cols[col] = encoded_cols\n",
    "# Apply one-hot encoding to non-numerical columns\n",
    "data = pd.get_dummies(data, columns=non_numerical_cols)\n",
    "X = data.drop('CSAT_Score', axis=1)\n",
    "y = data['CSAT_Score'].astype(int)\n",
    "\n",
    "# Split the data into smaller batches\n",
    "batch_size = 10000 \n",
    "X_batches = [X[i:i+batch_size] for i in range(0, len(X), batch_size)]\n",
    "y_batches = [y[i:i+batch_size] for i in range(0, len(y), batch_size)]\n",
    "\n",
    "# Define the resampling strategies\n",
    "desired_ratio = {\n",
    "    1: 2000,  \n",
    "    2: 1400,   \n",
    "    3: 1800,   \n",
    "    4: 2600   \n",
    "}\n",
    "over = SMOTE(sampling_strategy=desired_ratio)\n",
    "under = RandomUnderSampler(sampling_strategy={5: 4000})  \n",
    "resample_pipeline = Pipeline(steps=[('o', over), ('u', under)])\n",
    "\n",
    "# Adding the batches one by one \n",
    "resampled_batches = []\n",
    "for X_batch, y_batch in zip(X_batches, y_batches):\n",
    "    X_resampled, y_resampled = resample_pipeline.fit_resample(X_batch, y_batch)\n",
    "    resampled_batches.append((X_resampled, y_resampled))\n",
    "\n",
    "\n",
    "balanced_data = pd.concat([pd.DataFrame(X_resampled, columns=X.columns) for X_resampled, _ in resampled_batches])\n",
    "balanced_data['CSAT_Score'] = pd.concat([pd.Series(y_resampled) for _, y_resampled in resampled_batches], ignore_index=True)\n",
    "#Reverting to original values\n",
    "reverted_categorical_cols = pd.DataFrame()\n",
    "for col in non_numerical_cols:\n",
    "    encoded_cols = [c for c in balanced_data.columns if c.startswith(col + '_')]\n",
    "    reverted_col = balanced_data[encoded_cols].idxmax(axis=1).apply(lambda x: x.rsplit('_', 1)[-1])\n",
    "    reverted_categorical_cols[col] = reverted_col\n",
    "\n",
    "balanced_data = balanced_data.drop(columns=sum(original_to_encoded_cols.values(), []))\n",
    "balanced_data = pd.concat([balanced_data, reverted_categorical_cols], axis=1)\n",
    "conn = sqlite3.connect('balance_customer_support.db')\n",
    "balanced_data.to_sql('balanced_customer_support', conn, if_exists='replace', index=False)\n",
    "conn.close()\n",
    "\n",
    "print(\"Balanced dataset saved to 'balance_customer_support.db'.\")\n"
   ]
  }
 ],
 "metadata": {
  "kernelspec": {
   "display_name": ".venv",
   "language": "python",
   "name": "python3"
  },
  "language_info": {
   "codemirror_mode": {
    "name": "ipython",
    "version": 3
   },
   "file_extension": ".py",
   "mimetype": "text/x-python",
   "name": "python",
   "nbconvert_exporter": "python",
   "pygments_lexer": "ipython3",
   "version": "3.11.0"
  }
 },
 "nbformat": 4,
 "nbformat_minor": 2
}

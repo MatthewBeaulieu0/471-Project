{
  "cells": [
    {
      "cell_type": "markdown",
      "metadata": {
        "id": "-9xnLmGdZc8I"
      },
      "source": [
        "## Data preparation and cleaning\n",
        "\n"
      ]
    },
    {
      "cell_type": "code",
      "execution_count": 61,
      "metadata": {},
      "outputs": [],
      "source": [
        "import sqlite3\n",
        "import numpy as np\n",
        "import pandas as pd\n",
        "from sklearn.linear_model import LinearRegression\n",
        "from sklearn.model_selection import train_test_split\n",
        "from sklearn.linear_model import LinearRegression\n",
        "from sklearn.preprocessing import OneHotEncoder\n",
        "from sklearn.metrics import  mean_squared_error, r2_score\n",
        "#Connect to database\n",
        "conn = sqlite3.connect('cleaned_customer_support.db')\n",
        "data = pd.read_sql_query(\"SELECT * FROM cleaned_customer_support\", conn)\n",
        "y = data['CSAT_Score']"
      ]
    },
    {
      "cell_type": "code",
      "execution_count": 62,
      "metadata": {},
      "outputs": [
        {
          "name": "stdout",
          "output_type": "stream",
          "text": [
            "Model using 'issue_reported_hour_of_day':\n",
            "Mean Squared Error: 2.3671577053105173\n",
            "R-squared: -0.0009673798417888513\n",
            "       issue_reported_hour_of_day  Actual_CSAT_Score  Predicted_CSAT_Score\n",
            "3394                           13                  4              4.062751\n",
            "23665                          19                  5              4.071607\n",
            "8895                           21                  1              4.074559\n",
            "13218                           9                  4              4.056847\n",
            "12382                          13                  5              4.062751\n",
            "2932                            0                  1              4.043563\n",
            "20001                          18                  5              4.070131\n",
            "26043                          21                  5              4.074559\n",
            "3023                            7                  5              4.053895\n",
            "5102                           13                  5              4.062751\n",
            "\n",
            "Model using 'response_time_minutes':\n",
            "Mean Squared Error: 2.31584588140766\n",
            "R-squared: 0.02073014449793764\n",
            "       response_time_minutes  Actual_CSAT_Score  Predicted_CSAT_Score\n",
            "3394                    55.0                  4              4.099767\n",
            "23665                    2.0                  5              4.123381\n",
            "8895                  5721.0                  1              1.575307\n",
            "13218                    2.0                  4              4.123381\n",
            "12382                   27.0                  5              4.112242\n",
            "2932                  2887.0                  1              2.837983\n",
            "20001                    2.0                  5              4.123381\n",
            "26043                    3.0                  5              4.122935\n",
            "3023                     2.0                  5              4.123381\n",
            "5102                    18.0                  5              4.116252\n"
          ]
        }
      ],
      "source": [
        "#First going to evaluate the hour when the issue was reported as well as the response time \n",
        "X1 = data[['issue_reported_hour_of_day']]\n",
        "X2 = data[['response_time_minutes']]\n",
        "#First model based on issue_reported_hour_of_day\n",
        "X1_train, X1_test, y_train, y_test = train_test_split(X1, y, test_size=0.2, random_state=42)\n",
        "model1 = LinearRegression()\n",
        "model1.fit(X1_train, y_train)\n",
        "y_pred1 = model1.predict(X1_test)\n",
        "mse1 = mean_squared_error(y_test, y_pred1)\n",
        "r2_1 = r2_score(y_test, y_pred1)\n",
        "#Printing relevant data for issue_reported_hour_of_day\n",
        "print(\"Model using 'issue_reported_hour_of_day':\")\n",
        "print(f'Mean Squared Error: {mse1}')\n",
        "print(f'R-squared: {r2_1}')\n",
        "examples = X1_test.copy()  \n",
        "examples['Actual_CSAT_Score'] = y_test \n",
        "examples['Predicted_CSAT_Score'] = y_pred1  \n",
        "print(examples.head(10))  \n",
        "# Second model based on response_time_minutes\n",
        "X2_train, X2_test, y_train, y_test = train_test_split(X2, y, test_size=0.2, random_state=42)\n",
        "model2 = LinearRegression()\n",
        "model2.fit(X2_train, y_train)\n",
        "y_pred2 = model2.predict(X2_test)\n",
        "mse2 = mean_squared_error(y_test, y_pred2)\n",
        "r2_2 = r2_score(y_test, y_pred2)\n",
        "#Printing relevant data for response_time_minutes\n",
        "print(\"\\nModel using 'response_time_minutes':\")\n",
        "print(f'Mean Squared Error: {mse2}')\n",
        "print(f'R-squared: {r2_2}')\n",
        "examples = X2_test.copy()  \n",
        "examples['Actual_CSAT_Score'] = y_test \n",
        "examples['Predicted_CSAT_Score'] = y_pred2  \n",
        "print(examples.head(10))  "
      ]
    },
    {
      "cell_type": "code",
      "execution_count": 81,
      "metadata": {},
      "outputs": [
        {
          "name": "stdout",
          "output_type": "stream",
          "text": [
            "['Afternoon' 'Evening' 'Morning' 'Night' 'Split']\n",
            "   A  E  M  N  S  Actual_CSAT_Score  Predicted_CSAT_Score\n",
            "0  0  0  1  0  0                  4              4.001691\n",
            "1  0  0  1  0  0                  5              4.001691\n",
            "2  1  0  0  0  0                  1              4.137886\n",
            "3  0  0  1  0  0                  4              4.001691\n",
            "4  0  1  0  0  0                  5              4.096031\n",
            "5  0  1  0  0  0                  1              4.096031\n",
            "6  0  1  0  0  0                  5              4.096031\n",
            "7  0  1  0  0  0                  5              4.096031\n",
            "8  0  0  0  0  1                  5              4.338692\n",
            "9  0  0  1  0  0                  5              4.001691\n"
          ]
        }
      ],
      "source": [
        "# Third model based on Agent Shift which needs one hot encoder to preprocess the data since the shifts are split into known ones\n",
        "encoder = OneHotEncoder() \n",
        "X3_encoded = encoder.fit_transform(data[['Agent Shift']])\n",
        "shift_categories = encoder.categories_[0] \n",
        "print(shift_categories)\n",
        "# Train model\n",
        "X3_train, X3_test, y_train, y_test = train_test_split(X3_encoded, y, test_size=0.2, random_state=42)\n",
        "model3 = LinearRegression()\n",
        "model3.fit(X3_train, y_train)\n",
        "y_pred3 = model3.predict(X3_test)\n",
        "mse3 = mean_squared_error(y_test, y_pred3)\n",
        "r2_3 = r2_score(y_test, y_pred3)\n",
        "mapped_categories = {int(i): category[0] for i, category in enumerate(shift_categories)}\n",
        "\n",
        "# Convert test data to DataFrame and map encoded categories to their labels\n",
        "X3_test_df = pd.DataFrame.sparse.from_spmatrix(X3_test)\n",
        "X3_test_df = X3_test_df.rename(columns=mapped_categories)\n",
        "X3_test_df = X3_test_df.astype(int)\n",
        "\n",
        "X3_test_df.reset_index(drop=True, inplace=True)\n",
        "y_test.reset_index(drop=True, inplace=True)\n",
        "examples = X3_test_df.copy()  \n",
        "examples['Actual_CSAT_Score'] = y_test \n",
        "examples['Predicted_CSAT_Score'] = y_pred3 \n",
        "\n",
        "print(examples.head(10))\n",
        "\n",
        "\n"
      ]
    },
    {
      "cell_type": "code",
      "execution_count": null,
      "metadata": {},
      "outputs": [],
      "source": []
    }
  ],
  "metadata": {
    "colab": {
      "provenance": []
    },
    "kernelspec": {
      "display_name": "Python 3",
      "name": "python3"
    },
    "language_info": {
      "codemirror_mode": {
        "name": "ipython",
        "version": 3
      },
      "file_extension": ".py",
      "mimetype": "text/x-python",
      "name": "python",
      "nbconvert_exporter": "python",
      "pygments_lexer": "ipython3",
      "version": "3.11.0"
    }
  },
  "nbformat": 4,
  "nbformat_minor": 0
}

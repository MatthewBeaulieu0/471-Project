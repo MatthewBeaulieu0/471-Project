{
  "cells": [
    {
      "cell_type": "markdown",
      "metadata": {
        "id": "-9xnLmGdZc8I"
      },
      "source": [
        "## Data preparation and cleaning\n",
        "\n"
      ]
    },
    {
      "cell_type": "code",
      "execution_count": 13,
      "metadata": {},
      "outputs": [],
      "source": [
        "import sqlite3\n",
        "import numpy as np\n",
        "import pandas as pd\n",
        "from sklearn.linear_model import LinearRegression\n",
        "from sklearn.model_selection import train_test_split\n",
        "from sklearn.linear_model import LinearRegression\n",
        "from sklearn.metrics import mean_absolute_error, mean_squared_error, r2_score"
      ]
    },
    {
      "cell_type": "code",
      "execution_count": 14,
      "metadata": {
        "colab": {
          "base_uri": "https://localhost:8080/"
        },
        "id": "sdHlLc9ZOV7R",
        "outputId": "df52d57b-bee9-43be-aca6-045659d70d45"
      },
      "outputs": [
        {
          "name": "stdout",
          "output_type": "stream",
          "text": [
            "                              Unique id channel_name       category  \\\n",
            "0  372b51a5-fa19-4a31-a4b8-a21de117d75e      Inbound        Returns   \n",
            "1  6e4413db-4e16-42fc-ac92-2f402e3df03c      Inbound        Returns   \n",
            "2  4c28acf4-2ea4-4be8-b8f1-113e676fc8b7      Inbound  Order Related   \n",
            "3  c54459b3-ffb3-4ffa-a338-6fd179beb6b1      Inbound  Order Related   \n",
            "4  6e51734e-9627-4a12-8062-877c3638627d      Inbound  Order Related   \n",
            "\n",
            "             Sub-category                                   Customer_Remarks  \\\n",
            "0  Exchange / Replacement                                          Very good   \n",
            "1                 Missing  Shopzilla app and it's all coustomer care serv...   \n",
            "2                 Delayed                                           Very bad   \n",
            "3       Installation/demo                                         Something    \n",
            "4       Installation/demo                                           All good   \n",
            "\n",
            "     Issue_reported at      issue_responded Survey_response_Date  \\\n",
            "0  2023-08-01 16:17:00  2023-08-01 16:23:00  2023-08-01 00:00:00   \n",
            "1  2023-08-01 21:03:00  2023-08-01 21:07:00  2023-08-01 00:00:00   \n",
            "2  2023-08-02 10:44:00  2023-08-02 11:14:00  2023-08-02 00:00:00   \n",
            "3  2023-08-01 10:00:00  2023-08-01 10:04:00  2023-08-01 00:00:00   \n",
            "4  2023-08-02 20:03:00  2023-08-02 20:05:00  2023-08-02 00:00:00   \n",
            "\n",
            "      Agent_name     Supervisor          Manager    Tenure Bucket Agent Shift  \\\n",
            "0    Laura Smith  Evelyn Kimura  Jennifer Nguyen  On Job Training     Evening   \n",
            "1    David Smith   Nathan Patel       John Smith              >90       Split   \n",
            "2  Stanley Hogan    Harper Wong       Emily Chen              >90       Split   \n",
            "3   Jennifer May   Zoe Yamamoto      William Kim  On Job Training     Morning   \n",
            "4   David Butler    Olivia Wang       Emily Chen            31-60     Evening   \n",
            "\n",
            "   CSAT_Score  response_time_minutes  issue_reported_hour_of_day  \\\n",
            "0           5                    6.0                          16   \n",
            "1           5                    4.0                          21   \n",
            "2           1                   30.0                          10   \n",
            "3           3                    4.0                          10   \n",
            "4           5                    2.0                          20   \n",
            "\n",
            "   issue_reported_day_of_week  \n",
            "0                           1  \n",
            "1                           1  \n",
            "2                           2  \n",
            "3                           1  \n",
            "4                           2  \n",
            "         CSAT_Score  response_time_minutes  issue_reported_hour_of_day  \\\n",
            "count  28742.000000           28742.000000                28742.000000   \n",
            "mean       4.073238             130.186835                   14.456718   \n",
            "std        1.560075             593.501462                    5.066173   \n",
            "min        1.000000           -1437.000000                    0.000000   \n",
            "25%        4.000000               2.000000                   11.000000   \n",
            "50%        5.000000               5.000000                   15.000000   \n",
            "75%        5.000000              29.000000                   19.000000   \n",
            "max        5.000000            5742.000000                   23.000000   \n",
            "\n",
            "       issue_reported_day_of_week  \n",
            "count                28742.000000  \n",
            "mean                     2.835050  \n",
            "std                      1.958646  \n",
            "min                      0.000000  \n",
            "25%                      1.000000  \n",
            "50%                      3.000000  \n",
            "75%                      5.000000  \n",
            "max                      6.000000  \n"
          ]
        }
      ],
      "source": [
        "#Connect to database\n",
        "conn = sqlite3.connect('cleaned_customer_support.db')\n",
        "data = pd.read_sql_query(\"SELECT * FROM cleaned_customer_support\", conn)\n",
        "print(data.head())\n",
        "print(data.describe())"
      ]
    },
    {
      "cell_type": "code",
      "execution_count": 18,
      "metadata": {},
      "outputs": [
        {
          "name": "stdout",
          "output_type": "stream",
          "text": [
            "Model using 'issue_reported_hour_of_day':\n",
            "Mean Squared Error: 2.3671577053105173\n",
            "R-squared: -0.0009673798417888513\n",
            "       issue_reported_hour_of_day  Actual_CSAT_Score  Predicted_CSAT_Score\n",
            "3394                           13                  4              4.062751\n",
            "23665                          19                  5              4.071607\n",
            "8895                           21                  1              4.074559\n",
            "13218                           9                  4              4.056847\n",
            "12382                          13                  5              4.062751\n",
            "2932                            0                  1              4.043563\n",
            "20001                          18                  5              4.070131\n",
            "26043                          21                  5              4.074559\n",
            "3023                            7                  5              4.053895\n",
            "5102                           13                  5              4.062751\n",
            "\n",
            "Model using 'response_time_minutes':\n",
            "Mean Squared Error: 2.31584588140766\n",
            "R-squared: 0.02073014449793764\n",
            "       response_time_minutes  Actual_CSAT_Score  Predicted_CSAT_Score\n",
            "3394                    55.0                  4              4.099767\n",
            "23665                    2.0                  5              4.123381\n",
            "8895                  5721.0                  1              1.575307\n",
            "13218                    2.0                  4              4.123381\n",
            "12382                   27.0                  5              4.112242\n",
            "2932                  2887.0                  1              2.837983\n",
            "20001                    2.0                  5              4.123381\n",
            "26043                    3.0                  5              4.122935\n",
            "3023                     2.0                  5              4.123381\n",
            "5102                    18.0                  5              4.116252\n"
          ]
        }
      ],
      "source": [
        "#First going to evaluate the hour when the issue was reported as well as the response time \n",
        "X1 = data[['issue_reported_hour_of_day']]\n",
        "X2 = data[['response_time_minutes']]\n",
        "y = data['CSAT_Score']\n",
        "#First model based on issue_reported_hour_of_day\n",
        "X1_train, X1_test, y_train, y_test = train_test_split(X1, y, test_size=0.2, random_state=42)\n",
        "model1 = LinearRegression()\n",
        "model1.fit(X1_train, y_train)\n",
        "y_pred1 = model1.predict(X1_test)\n",
        "mse1 = mean_squared_error(y_test, y_pred1)\n",
        "r2_1 = r2_score(y_test, y_pred1)\n",
        "#Printing relevant data for issue_reported_hour_of_day\n",
        "print(\"Model using 'issue_reported_hour_of_day':\")\n",
        "print(f'Mean Squared Error: {mse1}')\n",
        "print(f'R-squared: {r2_1}')\n",
        "examples = X1_test.copy()  \n",
        "examples['Actual_CSAT_Score'] = y_test \n",
        "examples['Predicted_CSAT_Score'] = y_pred1  \n",
        "print(examples.head(10))  \n",
        "# Second model based on response_time_minutes\n",
        "X2_train, X2_test, y_train, y_test = train_test_split(X2, y, test_size=0.2, random_state=42)\n",
        "model2 = LinearRegression()\n",
        "model2.fit(X2_train, y_train)\n",
        "y_pred2 = model2.predict(X2_test)\n",
        "mse2 = mean_squared_error(y_test, y_pred2)\n",
        "r2_2 = r2_score(y_test, y_pred2)\n",
        "#Printing relevant data for response_time_minutes\n",
        "print(\"\\nModel using 'response_time_minutes':\")\n",
        "print(f'Mean Squared Error: {mse2}')\n",
        "print(f'R-squared: {r2_2}')\n",
        "examples = X2_test.copy()  \n",
        "examples['Actual_CSAT_Score'] = y_test \n",
        "examples['Predicted_CSAT_Score'] = y_pred2  \n",
        "print(examples.head(10))  \n"
      ]
    },
    {
      "cell_type": "code",
      "execution_count": null,
      "metadata": {},
      "outputs": [],
      "source": []
    }
  ],
  "metadata": {
    "colab": {
      "provenance": []
    },
    "kernelspec": {
      "display_name": "Python 3",
      "name": "python3"
    },
    "language_info": {
      "codemirror_mode": {
        "name": "ipython",
        "version": 3
      },
      "file_extension": ".py",
      "mimetype": "text/x-python",
      "name": "python",
      "nbconvert_exporter": "python",
      "pygments_lexer": "ipython3",
      "version": "3.11.0"
    }
  },
  "nbformat": 4,
  "nbformat_minor": 0
}
